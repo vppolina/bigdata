{
 "cells": [
  {
   "cell_type": "markdown",
   "metadata": {},
   "source": [
    "Animation: https://www.cs.usfca.edu/~galles/visualization/BST.html"
   ]
  },
  {
   "cell_type": "code",
   "execution_count": 229,
   "metadata": {},
   "outputs": [],
   "source": [
    "class Node:\n",
    "    \n",
    "    def __init__(self,data):\n",
    "        self.left = None\n",
    "        self.right = None\n",
    "        self.data = data"
   ]
  },
  {
   "cell_type": "code",
   "execution_count": 230,
   "metadata": {},
   "outputs": [],
   "source": [
    "class Tree:\n",
    "    def __init__(self, root = None):\n",
    "        self.root = Node(root)\n",
    "        \n",
    "    \"\"\"def insert(self, item):\n",
    "        \n",
    "        if self.root.data:\n",
    "            if item < self.root.data:\n",
    "                if self.root.data is None:\n",
    "                    self.root.left.insert(item)\n",
    "                else: \n",
    "                    self.root.left.insert(item)\n",
    "            if item > self.root.data:\n",
    "                if self.root.data is None:\n",
    "                    self.root.right.insert(item)\n",
    "                else: \n",
    "                    self.root.right.insert(item)\n",
    "        else: \n",
    "            self.root.data = item\"\"\"    \n",
    "            \n",
    "            \n",
    "    def insert(self, item):\n",
    "        if self.root.data is None:\n",
    "            self.root.data = item   \n",
    "        else:\n",
    "            self._insert(self.root, item)   \n",
    "\n",
    "    def _insert(self, node, item):    \n",
    "        if item < node.data:    \n",
    "            if node.left is None:  \n",
    "                node.left = Node(item)\n",
    "            else:                   \n",
    "                self._insert(node.left, item)\n",
    "        else:                   \n",
    "            if node.right is None:  \n",
    "                node.right = Node(item)\n",
    "            else:                  \n",
    "                self._insert(node.right, item)\n",
    "\n",
    "            \n",
    "    \"\"\"def find(self, item):\n",
    "        if item < self.root.data:\n",
    "            if self.root.left is None:\n",
    "                return False\n",
    "            return self.root.left.find(item)\n",
    "        elif item > self.root.data:\n",
    "            if self.root.right is None:\n",
    "                return False\n",
    "            return self.root.right.find(item)\n",
    "        else: \n",
    "            return True\"\"\"\n",
    "    \n",
    "    \n",
    "    def _find(self, node, item):\n",
    "        if item < node.data:\n",
    "            if node.left is None:\n",
    "                return False\n",
    "            return self._find(node.left, item)\n",
    "        elif item > node.data:\n",
    "            if node.right is None:\n",
    "                return False\n",
    "            return self._find(node.right, item)\n",
    "        else:\n",
    "            return True\n",
    "    \n",
    "    def find(self, item):\n",
    "        return self._find(self.root, item)"
   ]
  },
  {
   "cell_type": "code",
   "execution_count": 231,
   "metadata": {},
   "outputs": [],
   "source": [
    "tree = Tree()"
   ]
  },
  {
   "cell_type": "code",
   "execution_count": 232,
   "metadata": {},
   "outputs": [],
   "source": [
    "tree.insert(4)\n",
    "tree.insert(5)\n",
    "tree.insert(1)\n",
    "tree.insert(56)\n",
    "tree.insert(33)"
   ]
  },
  {
   "cell_type": "code",
   "execution_count": 233,
   "metadata": {},
   "outputs": [
    {
     "data": {
      "text/plain": [
       "33"
      ]
     },
     "execution_count": 233,
     "metadata": {},
     "output_type": "execute_result"
    }
   ],
   "source": [
    "tree.root.right.right.left.data"
   ]
  },
  {
   "cell_type": "code",
   "execution_count": 234,
   "metadata": {},
   "outputs": [
    {
     "data": {
      "text/plain": [
       "True"
      ]
     },
     "execution_count": 234,
     "metadata": {},
     "output_type": "execute_result"
    }
   ],
   "source": [
    "tree.find(33)"
   ]
  },
  {
   "cell_type": "code",
   "execution_count": 236,
   "metadata": {},
   "outputs": [
    {
     "data": {
      "text/plain": [
       "False"
      ]
     },
     "execution_count": 236,
     "metadata": {},
     "output_type": "execute_result"
    }
   ],
   "source": [
    "tree.find(7)"
   ]
  },
  {
   "cell_type": "markdown",
   "metadata": {},
   "source": [
    "## Why is the worst case time complexity of the find method only $O(n)$ and not $O(log n)$?\n",
    "\n",
    "### Because we deal with unsorted list, and have to iterate through all branches to find the chosen item"
   ]
  },
  {
   "cell_type": "code",
   "execution_count": null,
   "metadata": {
    "collapsed": true
   },
   "outputs": [],
   "source": []
  }
 ],
 "metadata": {
  "kernelspec": {
   "display_name": "Python 3",
   "language": "python",
   "name": "python3"
  },
  "language_info": {
   "codemirror_mode": {
    "name": "ipython",
    "version": 3
   },
   "file_extension": ".py",
   "mimetype": "text/x-python",
   "name": "python",
   "nbconvert_exporter": "python",
   "pygments_lexer": "ipython3",
   "version": "3.7.1"
  },
  "varInspector": {
   "cols": {
    "lenName": 16,
    "lenType": 16,
    "lenVar": 40
   },
   "kernels_config": {
    "python": {
     "delete_cmd_postfix": "",
     "delete_cmd_prefix": "del ",
     "library": "var_list.py",
     "varRefreshCmd": "print(var_dic_list())"
    },
    "r": {
     "delete_cmd_postfix": ") ",
     "delete_cmd_prefix": "rm(",
     "library": "var_list.r",
     "varRefreshCmd": "cat(var_dic_list()) "
    }
   },
   "types_to_exclude": [
    "module",
    "function",
    "builtin_function_or_method",
    "instance",
    "_Feature"
   ],
   "window_display": false
  }
 },
 "nbformat": 4,
 "nbformat_minor": 2
}
