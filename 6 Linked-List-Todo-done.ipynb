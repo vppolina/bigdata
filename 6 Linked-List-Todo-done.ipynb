{
 "cells": [
  {
   "cell_type": "markdown",
   "metadata": {},
   "source": [
    "# Linked List"
   ]
  },
  {
   "cell_type": "markdown",
   "metadata": {},
   "source": [
    "![Linked List](https://cdncontribute.geeksforgeeks.org/wp-content/uploads/Linkedlist-2.png)\n",
    "\n",
    "See https://yongdanielliang.github.io/animation/web/LinkedList.html for an animation."
   ]
  },
  {
   "cell_type": "code",
   "execution_count": 55,
   "metadata": {},
   "outputs": [
    {
     "ename": "AttributeError",
     "evalue": "'int' object has no attribute 'next'",
     "output_type": "error",
     "traceback": [
      "\u001b[0;31m---------------------------------------------------------------------------\u001b[0m",
      "\u001b[0;31mAttributeError\u001b[0m                            Traceback (most recent call last)",
      "\u001b[0;32m<ipython-input-55-4811ec0cb7d8>\u001b[0m in \u001b[0;36m<module>\u001b[0;34m()\u001b[0m\n\u001b[1;32m    106\u001b[0m \u001b[0;34m\u001b[0m\u001b[0m\n\u001b[1;32m    107\u001b[0m     \u001b[0;31m# Insert 8, after 7. So linked list becomes 1 -> 7-> 8-> 6-> 4-> None\u001b[0m\u001b[0;34m\u001b[0m\u001b[0;34m\u001b[0m\u001b[0;34m\u001b[0m\u001b[0m\n\u001b[0;32m--> 108\u001b[0;31m     \u001b[0mllist\u001b[0m\u001b[0;34m.\u001b[0m\u001b[0minsertAfter\u001b[0m\u001b[0;34m(\u001b[0m\u001b[0;36m3\u001b[0m\u001b[0;34m,\u001b[0m \u001b[0;36m8\u001b[0m\u001b[0;34m)\u001b[0m\u001b[0;34m\u001b[0m\u001b[0;34m\u001b[0m\u001b[0m\n\u001b[0m\u001b[1;32m    109\u001b[0m \u001b[0;34m\u001b[0m\u001b[0m\n\u001b[1;32m    110\u001b[0m     \u001b[0mprint\u001b[0m \u001b[0;34m(\u001b[0m\u001b[0;34m'Created linked list is:'\u001b[0m\u001b[0;34m)\u001b[0m\u001b[0;34m,\u001b[0m\u001b[0;34m\u001b[0m\u001b[0;34m\u001b[0m\u001b[0m\n",
      "\u001b[0;32m<ipython-input-55-4811ec0cb7d8>\u001b[0m in \u001b[0;36minsertAfter\u001b[0;34m(self, prev_node, new_data)\u001b[0m\n\u001b[1;32m     49\u001b[0m \u001b[0;34m\u001b[0m\u001b[0m\n\u001b[1;32m     50\u001b[0m         \u001b[0;31m# 4. Make next of new Node as next of prev_node\u001b[0m\u001b[0;34m\u001b[0m\u001b[0;34m\u001b[0m\u001b[0;34m\u001b[0m\u001b[0m\n\u001b[0;32m---> 51\u001b[0;31m         \u001b[0mnew_node\u001b[0m\u001b[0;34m.\u001b[0m\u001b[0mnext\u001b[0m \u001b[0;34m=\u001b[0m \u001b[0mprev_node\u001b[0m\u001b[0;34m.\u001b[0m\u001b[0mnext\u001b[0m\u001b[0;34m\u001b[0m\u001b[0;34m\u001b[0m\u001b[0m\n\u001b[0m\u001b[1;32m     52\u001b[0m \u001b[0;34m\u001b[0m\u001b[0m\n\u001b[1;32m     53\u001b[0m         \u001b[0;31m# 5. make next of prev_node as new_node\u001b[0m\u001b[0;34m\u001b[0m\u001b[0;34m\u001b[0m\u001b[0;34m\u001b[0m\u001b[0m\n",
      "\u001b[0;31mAttributeError\u001b[0m: 'int' object has no attribute 'next'"
     ]
    }
   ],
   "source": [
    "\n",
    "# A complete working Python program to demonstrate all \n",
    "# insertion methods of linked list \n",
    "  \n",
    "# Node class \n",
    "class Node: \n",
    "  \n",
    "    # Function to initialise the node object \n",
    "    def __init__(self, data): \n",
    "        self.data = data  # Assign data \n",
    "        self.next = None  # Initialize next as null \n",
    "  \n",
    "  \n",
    "# Linked List class contains a Node object \n",
    "class LinkedList: \n",
    "  \n",
    "    # Function to initialize head \n",
    "    def __init__(self): \n",
    "        self.head = None\n",
    "  \n",
    "  \n",
    "    # Functio to insert a new node at the beginning \n",
    "    def push(self, new_data): \n",
    "  \n",
    "        # 1 & 2: Allocate the Node & \n",
    "        #        Put in the data \n",
    "        new_node = Node(new_data) \n",
    "  \n",
    "        # 3. Make next of new Node as head \n",
    "        new_node.next = self.head \n",
    "  \n",
    "        # 4. Move the head to point to new Node \n",
    "        self.head = new_node \n",
    "  \n",
    "  \n",
    "    # This function is in LinkedList class. Inserts a \n",
    "    # new node after the given prev_node. This method is \n",
    "    # defined inside LinkedList class shown above */ \n",
    "    def insertAfter(self, prev_node, new_data): \n",
    "  \n",
    "        # 1. check if the given prev_node exists \n",
    "        if prev_node is None: \n",
    "            print (\"The given previous node must inLinkedList.\")\n",
    "            return\n",
    "  \n",
    "        #  2. create new node & \n",
    "        #      Put in the data \n",
    "        new_node = Node(new_data) \n",
    "  \n",
    "        # 4. Make next of new Node as next of prev_node \n",
    "        new_node.next = prev_node.next\n",
    "  \n",
    "        # 5. make next of prev_node as new_node \n",
    "        prev_node.next = new_node \n",
    "  \n",
    "  \n",
    "    # This function is defined in Linked List class \n",
    "    # Appends a new node at the end.  This method is \n",
    "    # defined inside LinkedList class shown above */ \n",
    "    def append(self, new_data): \n",
    "  \n",
    "        # 1. Create a new node \n",
    "        # 2. Put in the data \n",
    "        # 3. Set next as None \n",
    "        new_node = Node(new_data) \n",
    "  \n",
    "        # 4. If the Linked List is empty, then make the \n",
    "        #    new node as head \n",
    "        if self.head is None: \n",
    "            self.head = new_node \n",
    "            return\n",
    "  \n",
    "        # 5. Else traverse till the last node \n",
    "        last = self.head \n",
    "        while (last.next): \n",
    "            last = last.next\n",
    "  \n",
    "        # 6. Change the next of last node \n",
    "        last.next =  new_node \n",
    "  \n",
    "  \n",
    "    # Utility function to print the linked list \n",
    "    def printList(self): \n",
    "        temp = self.head \n",
    "        while (temp): \n",
    "            print (temp.data), \n",
    "            temp = temp.next\n",
    "  \n",
    "  \n",
    "if __name__=='__main__': \n",
    "  \n",
    "    # Start with the empty list \n",
    "    llist = LinkedList() \n",
    "  \n",
    "    # Insert 6.  So linked list becomes 6->None \n",
    "    llist.append(6) \n",
    "  \n",
    "    # Insert 7 at the beginning. So linked list becomes 7->6->None \n",
    "    llist.push(7); \n",
    "  \n",
    "    # Insert 1 at the beginning. So linked list becomes 1->7->6->None \n",
    "    llist.push(1); \n",
    "  \n",
    "    # Insert 4 at the end. So linked list becomes 1->7->6->4->None \n",
    "    llist.append(4) \n",
    "  \n",
    "    # Insert 8, after 7. So linked list becomes 1 -> 7-> 8-> 6-> 4-> None \n",
    "    llist.insertAfter(3, 8) \n",
    "  \n",
    "    print ('Created linked list is:'), \n",
    "    llist.printList() \n",
    "  \n"
   ]
  },
  {
   "cell_type": "code",
   "execution_count": 70,
   "metadata": {},
   "outputs": [],
   "source": [
    "class Element: \n",
    "  \n",
    "    # Function to initialise the node object \n",
    "    def __init__(self, data): \n",
    "        self.data = data  # Assign data \n",
    "        self.next = None  # Initialize next as null"
   ]
  },
  {
   "cell_type": "code",
   "execution_count": 94,
   "metadata": {},
   "outputs": [],
   "source": [
    "class LinkedList:\n",
    "    def __init__(self):\n",
    "        self.head = None \n",
    "        \n",
    "    def append(self, new_element):\n",
    "        \n",
    "        new_node = Element(new_element) \n",
    "        new_node.next = self.head \n",
    "        self.head = new_node \n",
    "        \n",
    "        \n",
    "    def getNth(self, llist, position): \n",
    "  \n",
    "        llist.getNthNode(self.head, position, llist)  \n",
    "  \n",
    "    def getNthNode(self, head, position, llist):  \n",
    "        count = 1\n",
    "        if(head): \n",
    "            if count == position: \n",
    "                print(head.data) \n",
    "            else:  \n",
    "                llist.getNthNode(head.next, position - 1, llist)  \n",
    "        else: print('Index Doesn\\'t exist') \n",
    "        \n",
    "        \n",
    "    def get_position(self, position):\n",
    "        \n",
    "        \"\"\"curr = self.head\n",
    "        while curr:\n",
    "            if curr.getData() == position:\n",
    "                return True\n",
    "            curr = curr.getNextNode()\n",
    "        return False\"\"\"\n",
    "    \n",
    "        if self.head is None:\n",
    "            print(\"List has no elements\")\n",
    "            return\n",
    "        n = self.head\n",
    "        while n is not None:\n",
    "            if n.data == position:\n",
    "                return n.data\n",
    "            n = n.next\n",
    "        return (\"item not found\")\n",
    " \n",
    "        \n",
    "    def insert(self, new_element, position):\n",
    "        \n",
    "        if position == 1:\n",
    "            new_node = Element(new_element)\n",
    "            new_node.next = self.head\n",
    "            self.head = new_node\n",
    "        i = 1\n",
    "        n = self.head\n",
    "        while i < position-1 and n is not None:\n",
    "            n = n.next\n",
    "            i = i+1\n",
    "        if n is None:\n",
    "            print(\"Index out of the list\")\n",
    "        else: \n",
    "            new_node = Element(new_element)\n",
    "            new_node.next = n.next\n",
    "            n.next = new_node\n",
    "    \n",
    "    def delete(self, key):\n",
    "        \n",
    "        head_val = self.head\n",
    "        \n",
    "        if (head_val is not None):\n",
    "            if (head_val.data == key):\n",
    "                self.head = head_val.next\n",
    "                head_val = None\n",
    "                return\n",
    "        while (head_val is not None):\n",
    "            if head_val.data == key:\n",
    "                break\n",
    "            prev = head_val\n",
    "            head_val = head_val.next\n",
    "        \n",
    "        if (head_val == None):\n",
    "            return\n",
    "        \n",
    "        prev.next = head_val.next\n",
    "        head_val = None\n",
    "        \n",
    "    def listprint(self):\n",
    "        printval = self.head\n",
    "        while printval is not None:\n",
    "            print (printval.data)\n",
    "            printval = printval.next "
   ]
  },
  {
   "cell_type": "code",
   "execution_count": 142,
   "metadata": {},
   "outputs": [],
   "source": [
    "# Start setting up a LinkedList\n",
    "llist = LinkedList()\n",
    "llist.append(1)\n",
    "llist.append(2)\n",
    "llist.append(3)\n",
    "llist.append(4)"
   ]
  },
  {
   "cell_type": "code",
   "execution_count": 143,
   "metadata": {},
   "outputs": [
    {
     "name": "stdout",
     "output_type": "stream",
     "text": [
      "4\n",
      "3\n",
      "2\n",
      "1\n"
     ]
    }
   ],
   "source": [
    "llist.listprint()"
   ]
  },
  {
   "cell_type": "code",
   "execution_count": 144,
   "metadata": {},
   "outputs": [
    {
     "name": "stdout",
     "output_type": "stream",
     "text": [
      "2\n"
     ]
    }
   ],
   "source": [
    "print(llist.head.next.next.data)"
   ]
  },
  {
   "cell_type": "code",
   "execution_count": 145,
   "metadata": {},
   "outputs": [
    {
     "name": "stdout",
     "output_type": "stream",
     "text": [
      "item not found\n",
      "2\n",
      "3\n"
     ]
    }
   ],
   "source": [
    "# Test delete\n",
    "llist.delete(1)\n",
    "# Should print 2 now\n",
    "print(llist.get_position(1))\n",
    "# Should print 4 now\n",
    "print(llist.get_position(2))\n",
    "# Should print 3 now\n",
    "print(llist.get_position(3))"
   ]
  },
  {
   "cell_type": "code",
   "execution_count": 146,
   "metadata": {},
   "outputs": [],
   "source": [
    "llist.insert(5,1)"
   ]
  },
  {
   "cell_type": "code",
   "execution_count": 147,
   "metadata": {},
   "outputs": [
    {
     "name": "stdout",
     "output_type": "stream",
     "text": [
      "5\n",
      "5\n",
      "4\n",
      "3\n",
      "2\n"
     ]
    }
   ],
   "source": [
    "llist.listprint()"
   ]
  },
  {
   "cell_type": "code",
   "execution_count": 148,
   "metadata": {},
   "outputs": [],
   "source": [
    "llist.delete(5)"
   ]
  },
  {
   "cell_type": "code",
   "execution_count": 149,
   "metadata": {},
   "outputs": [
    {
     "name": "stdout",
     "output_type": "stream",
     "text": [
      "5\n",
      "4\n",
      "3\n",
      "2\n"
     ]
    }
   ],
   "source": [
    "llist.listprint()"
   ]
  },
  {
   "cell_type": "code",
   "execution_count": null,
   "metadata": {},
   "outputs": [],
   "source": []
  }
 ],
 "metadata": {
  "kernelspec": {
   "display_name": "Python 3",
   "language": "python",
   "name": "python3"
  },
  "language_info": {
   "codemirror_mode": {
    "name": "ipython",
    "version": 3
   },
   "file_extension": ".py",
   "mimetype": "text/x-python",
   "name": "python",
   "nbconvert_exporter": "python",
   "pygments_lexer": "ipython3",
   "version": "3.7.1"
  },
  "varInspector": {
   "cols": {
    "lenName": 16,
    "lenType": 16,
    "lenVar": 40
   },
   "kernels_config": {
    "python": {
     "delete_cmd_postfix": "",
     "delete_cmd_prefix": "del ",
     "library": "var_list.py",
     "varRefreshCmd": "print(var_dic_list())"
    },
    "r": {
     "delete_cmd_postfix": ") ",
     "delete_cmd_prefix": "rm(",
     "library": "var_list.r",
     "varRefreshCmd": "cat(var_dic_list()) "
    }
   },
   "types_to_exclude": [
    "module",
    "function",
    "builtin_function_or_method",
    "instance",
    "_Feature"
   ],
   "window_display": false
  }
 },
 "nbformat": 4,
 "nbformat_minor": 2
}
