{
 "cells": [
  {
   "cell_type": "markdown",
   "metadata": {},
   "source": [
    "# Data \n",
    "\n",
    "The Pima Indians dataset is about the prediction of diabetes . This is a small dataset available from the UCI Machine Learning Repository. https://archive.ics.uci.edu/ml/datasets/Pima+Indians+Diabetes\n",
    "\n",
    "**Attribute Information:**\n",
    "\n",
    "1. Number of times pregnant\n",
    "2. Plasma glucose concentration a 2 hours in an oral glucose tolerance test\n",
    "3. Diastolic blood pressure (mm Hg)\n",
    "4. Triceps skin fold thickness (mm)\n",
    "5. 2-Hour serum insulin (mu U/ml)\n",
    "6. Body mass index (weight in kg/(height in m)^2)\n",
    "7. Diabetes pedigree function\n",
    "8. Age (years)\n",
    "9. Class variable (0 or 1) (diabetes mellitus)"
   ]
  },
  {
   "cell_type": "code",
   "execution_count": 2,
   "metadata": {},
   "outputs": [
    {
     "name": "stdout",
     "output_type": "stream",
     "text": [
      "--2019-06-09 11:54:01--  https://gist.githubusercontent.com/ktisha/c21e73a1bd1700294ef790c56c8aec1f/raw/819b69b5736821ccee93d05b51de0510bea00294/pima-indians-diabetes.csv\n",
      "Resolving gist.githubusercontent.com (gist.githubusercontent.com)... 151.101.112.133\n",
      "Connecting to gist.githubusercontent.com (gist.githubusercontent.com)|151.101.112.133|:443... connected.\n",
      "HTTP request sent, awaiting response... 200 OK\n",
      "Length: 23628 (23K) [text/plain]\n",
      "Saving to: ‘pima-indians-diabetes.csv’\n",
      "\n",
      "pima-indians-diabet 100%[===================>]  23.07K  96.7KB/s    in 0.2s    \n",
      "\n",
      "2019-06-09 11:54:02 (96.7 KB/s) - ‘pima-indians-diabetes.csv’ saved [23628/23628]\n",
      "\n"
     ]
    }
   ],
   "source": [
    "# Download the data\n",
    "! wget -O pima-indians-diabetes.csv https://gist.githubusercontent.com/ktisha/c21e73a1bd1700294ef790c56c8aec1f/raw/819b69b5736821ccee93d05b51de0510bea00294/pima-indians-diabetes.csv\n",
    "        "
   ]
  },
  {
   "cell_type": "code",
   "execution_count": 3,
   "metadata": {},
   "outputs": [
    {
     "name": "stdout",
     "output_type": "stream",
     "text": [
      "total 1568\r\n",
      "-rw-r--r--  1 Polina  staff   12025 Apr  9 10:00 1 Timing Algorithms.ipynb\r\n",
      "-rw-r--r--  1 Polina  staff   87427 Apr  7 13:54 1 Timing Algorithms_done.ipynb\r\n",
      "-rw-r--r--  1 Polina  staff   42741 May  5 16:51 10 MongoDB-Todo.ipynb\r\n",
      "-rw-r--r--  1 Polina  staff    7622 Jun  9 11:53 12_Pima_Indians_Diabetes_TODO.ipynb\r\n",
      "-rw-r--r--  1 Polina  staff    7094 Apr 16 10:13 2 Finding values in collections Solution.ipynb\r\n",
      "-rw-r--r--  1 Polina  staff    9429 Apr  7 13:53 2 Finding values in collections Todo_done.ipynb\r\n",
      "-rw-r--r--  1 Polina  staff   68221 Apr 16 10:13 3 Time Complexity-Solution.ipynb\r\n",
      "-rw-r--r--  1 Polina  staff   30348 Apr  9 10:00 3 Time Complexity.ipynb\r\n",
      "-rw-r--r--  1 Polina  staff   84914 Apr  9 08:37 3 Time Complexity2.ipynb\r\n",
      "-rw-r--r--  1 Polina  staff  124128 Apr  9 08:34 3 Time Complexity_done.ipynb\r\n",
      "-rw-r--r--  1 Polina  staff   26470 Apr 22 14:55 4 Decision Trees Solution.ipynb\r\n",
      "-rw-r--r--  1 Polina  staff    7162 Apr 16 10:36 4 Decision Trees Todoo.ipynb\r\n",
      "-rw-r--r--  1 Polina  staff   16729 Apr 16 10:13 5 Programming Paradigms.ipynb\r\n",
      "-rw-r--r--  1 Polina  staff   18657 Apr 22 12:09 5 Programming Paradigms_my.ipynb\r\n",
      "-rw-r--r--  1 Polina  staff    6478 Apr 22 17:13 6 Linked-List-Todo-done.ipynb\r\n",
      "-rw-r--r--  1 Polina  staff   17341 Apr 22 13:48 6 Linked-List-Todo.ipynb\r\n",
      "-rw-r--r--  1 Polina  staff    6004 Apr 22 18:50 7 Binary Search Tree-Todo-done.ipynb\r\n",
      "-rw-r--r--  1 Polina  staff   12112 Apr 22 17:24 7 Binary Search Tree-Todo.ipynb\r\n",
      "-rw-r--r--  1 Polina  staff   63785 Apr  9 13:37 8 Amdahl's Law.ipynb\r\n",
      "-rw-r--r--  1 Polina  staff   66923 May  4 13:40 9 Web API.ipynb\r\n",
      "-rw-r--r--  1 Polina  staff   22156 Apr 16 10:13 docker.md\r\n",
      "-rw-r--r--  1 Polina  staff   23628 Jun  9 11:54 pima-indians-diabetes.csv\r\n"
     ]
    }
   ],
   "source": [
    "# check if the data is downloaded\n",
    "%ls -l"
   ]
  },
  {
   "cell_type": "code",
   "execution_count": 115,
   "metadata": {},
   "outputs": [],
   "source": [
    "from sklearn.model_selection import train_test_split\n",
    "import keras\n",
    "from keras.models import Sequential\n",
    "from keras.layers import Dense, Activation\n",
    "from keras import optimizers\n",
    "import matplotlib.pyplot as plt\n",
    "from matplotlib.ticker import MaxNLocator\n",
    "import numpy as np"
   ]
  },
  {
   "cell_type": "code",
   "execution_count": 116,
   "metadata": {},
   "outputs": [],
   "source": [
    "# fix random seed for reproducibility\n",
    "seed = 7\n",
    "np.random.seed(seed)"
   ]
  },
  {
   "cell_type": "code",
   "execution_count": 117,
   "metadata": {},
   "outputs": [],
   "source": [
    "# load pima indians dataset\n",
    "dataset = np.loadtxt(\"pima-indians-diabetes.csv\", delimiter=\",\")"
   ]
  },
  {
   "cell_type": "code",
   "execution_count": 118,
   "metadata": {},
   "outputs": [
    {
     "data": {
      "text/plain": [
       "array([[  6.   , 148.   ,  72.   , ...,   0.627,  50.   ,   1.   ],\n",
       "       [  1.   ,  85.   ,  66.   , ...,   0.351,  31.   ,   0.   ],\n",
       "       [  8.   , 183.   ,  64.   , ...,   0.672,  32.   ,   1.   ],\n",
       "       ...,\n",
       "       [  5.   , 121.   ,  72.   , ...,   0.245,  30.   ,   0.   ],\n",
       "       [  1.   , 126.   ,  60.   , ...,   0.349,  47.   ,   1.   ],\n",
       "       [  1.   ,  93.   ,  70.   , ...,   0.315,  23.   ,   0.   ]])"
      ]
     },
     "execution_count": 118,
     "metadata": {},
     "output_type": "execute_result"
    }
   ],
   "source": [
    "dataset"
   ]
  },
  {
   "cell_type": "code",
   "execution_count": 254,
   "metadata": {},
   "outputs": [],
   "source": [
    "# split dataset into input (X) and output (Y) variables\n",
    "# output is the last column\n",
    "X = dataset[:,0:8]\n",
    "y = dataset[:,8]"
   ]
  },
  {
   "cell_type": "code",
   "execution_count": 255,
   "metadata": {},
   "outputs": [
    {
     "data": {
      "text/plain": [
       "(768, 8)"
      ]
     },
     "execution_count": 255,
     "metadata": {},
     "output_type": "execute_result"
    }
   ],
   "source": [
    "# print the shape of x\n",
    "#\n",
    "X.shape"
   ]
  },
  {
   "cell_type": "code",
   "execution_count": 256,
   "metadata": {},
   "outputs": [
    {
     "data": {
      "text/plain": [
       "8"
      ]
     },
     "execution_count": 256,
     "metadata": {},
     "output_type": "execute_result"
    }
   ],
   "source": [
    "# save to number of input dimensions in input_dim\n",
    "input_dim = X.shape[1]\n",
    "input_dim"
   ]
  },
  {
   "cell_type": "code",
   "execution_count": 257,
   "metadata": {},
   "outputs": [
    {
     "data": {
      "text/plain": [
       "(768,)"
      ]
     },
     "execution_count": 257,
     "metadata": {},
     "output_type": "execute_result"
    }
   ],
   "source": [
    "# shape of y\n",
    "y.shape"
   ]
  },
  {
   "cell_type": "code",
   "execution_count": 258,
   "metadata": {},
   "outputs": [],
   "source": [
    "# Create training and test sets\n",
    "# Test size should be 15%\n",
    "# The test and train set should be stratified\n",
    "# use a random state (for reproducability) of 42\n",
    "# TODO\n",
    "X_train, X_test, y_train, y_test = train_test_split(X, y, test_size=0.15, random_state=42)"
   ]
  },
  {
   "cell_type": "code",
   "execution_count": 259,
   "metadata": {},
   "outputs": [
    {
     "data": {
      "text/plain": [
       "(116,)"
      ]
     },
     "execution_count": 259,
     "metadata": {},
     "output_type": "execute_result"
    }
   ],
   "source": [
    "# shape of X_test\n",
    "# TODO\n",
    "y_test.shape"
   ]
  },
  {
   "cell_type": "code",
   "execution_count": 260,
   "metadata": {},
   "outputs": [
    {
     "data": {
      "text/plain": [
       "(116, 8)"
      ]
     },
     "execution_count": 260,
     "metadata": {},
     "output_type": "execute_result"
    }
   ],
   "source": [
    "X_test.shape"
   ]
  },
  {
   "cell_type": "markdown",
   "metadata": {},
   "source": [
    "# Model"
   ]
  },
  {
   "cell_type": "code",
   "execution_count": 261,
   "metadata": {},
   "outputs": [],
   "source": [
    "# 1. Create Sequential model\n",
    "# 2. + 3. Add two hidden dense layers with 12 and 8 nodes. Both should have Relu activations \n",
    "# 4. Add a final output layer\n",
    "# Think about how many nodes the final output layer should have and what activation function is appropiate\n",
    "# create model\n",
    "model = Sequential()\n",
    "model.add(Dense(12, input_dim=8, activation='relu'))\n",
    "model.add(Dense(8, activation='relu'))\n",
    "model.add(Dense(1, activation='sigmoid'))"
   ]
  },
  {
   "cell_type": "code",
   "execution_count": 262,
   "metadata": {},
   "outputs": [],
   "source": [
    "# Compile the model\n",
    "# Think about what loss function is appropiate\n",
    "# Use as the optimizer Adam\n",
    "# Track as an additional metric Accuracy\n",
    "# TODO\n",
    "model.compile(loss='poisson', optimizer='adam', metrics=['accuracy'])"
   ]
  },
  {
   "cell_type": "code",
   "execution_count": 263,
   "metadata": {},
   "outputs": [
    {
     "name": "stdout",
     "output_type": "stream",
     "text": [
      "Train on 554 samples, validate on 98 samples\n",
      "Epoch 1/300\n",
      "554/554 [==============================] - 1s 3ms/step - loss: 5.0144 - acc: 0.6516 - val_loss: 1.5928 - val_acc: 0.6224\n",
      "Epoch 2/300\n",
      "554/554 [==============================] - 0s 255us/step - loss: 1.0156 - acc: 0.4838 - val_loss: 0.8809 - val_acc: 0.4490\n",
      "Epoch 3/300\n",
      "554/554 [==============================] - 0s 270us/step - loss: 0.9444 - acc: 0.4856 - val_loss: 0.8487 - val_acc: 0.5000\n",
      "Epoch 4/300\n",
      "554/554 [==============================] - 0s 228us/step - loss: 0.8883 - acc: 0.5307 - val_loss: 0.8907 - val_acc: 0.5816\n",
      "Epoch 5/300\n",
      "554/554 [==============================] - 0s 241us/step - loss: 0.8605 - acc: 0.5758 - val_loss: 0.8318 - val_acc: 0.5408\n",
      "Epoch 6/300\n",
      "554/554 [==============================] - 0s 242us/step - loss: 0.8289 - acc: 0.5939 - val_loss: 0.8100 - val_acc: 0.5204\n",
      "Epoch 7/300\n",
      "554/554 [==============================] - 0s 257us/step - loss: 0.8081 - acc: 0.5866 - val_loss: 0.8090 - val_acc: 0.5918\n",
      "Epoch 8/300\n",
      "554/554 [==============================] - 0s 263us/step - loss: 0.7911 - acc: 0.6011 - val_loss: 0.7965 - val_acc: 0.6122\n",
      "Epoch 9/300\n",
      "554/554 [==============================] - 0s 253us/step - loss: 0.7722 - acc: 0.6083 - val_loss: 0.7793 - val_acc: 0.6122\n",
      "Epoch 10/300\n",
      "554/554 [==============================] - 0s 283us/step - loss: 0.7522 - acc: 0.6227 - val_loss: 0.7938 - val_acc: 0.6735\n",
      "Epoch 11/300\n",
      "554/554 [==============================] - 0s 252us/step - loss: 0.7464 - acc: 0.6282 - val_loss: 0.7782 - val_acc: 0.5714\n",
      "Epoch 12/300\n",
      "554/554 [==============================] - 0s 237us/step - loss: 0.7388 - acc: 0.6282 - val_loss: 0.7561 - val_acc: 0.6633\n",
      "Epoch 13/300\n",
      "554/554 [==============================] - 0s 233us/step - loss: 0.7244 - acc: 0.6264 - val_loss: 0.8580 - val_acc: 0.6633\n",
      "Epoch 14/300\n",
      "554/554 [==============================] - 0s 254us/step - loss: 0.7275 - acc: 0.6336 - val_loss: 0.7457 - val_acc: 0.6327\n",
      "Epoch 15/300\n",
      "554/554 [==============================] - 0s 290us/step - loss: 0.7256 - acc: 0.6336 - val_loss: 0.7317 - val_acc: 0.6633\n",
      "Epoch 16/300\n",
      "554/554 [==============================] - 0s 254us/step - loss: 0.7155 - acc: 0.6588 - val_loss: 0.7387 - val_acc: 0.6224\n",
      "Epoch 17/300\n",
      "554/554 [==============================] - 0s 266us/step - loss: 0.7060 - acc: 0.6679 - val_loss: 0.7430 - val_acc: 0.6735\n",
      "Epoch 18/300\n",
      "554/554 [==============================] - 0s 269us/step - loss: 0.7119 - acc: 0.6498 - val_loss: 0.7231 - val_acc: 0.7143\n",
      "Epoch 19/300\n",
      "554/554 [==============================] - 0s 276us/step - loss: 0.7055 - acc: 0.6516 - val_loss: 0.7291 - val_acc: 0.6633\n",
      "Epoch 20/300\n",
      "554/554 [==============================] - 0s 317us/step - loss: 0.6960 - acc: 0.6606 - val_loss: 0.7172 - val_acc: 0.6429\n",
      "Epoch 21/300\n",
      "554/554 [==============================] - 0s 272us/step - loss: 0.6957 - acc: 0.6480 - val_loss: 0.7358 - val_acc: 0.6531\n",
      "Epoch 22/300\n",
      "554/554 [==============================] - 0s 296us/step - loss: 0.7031 - acc: 0.6354 - val_loss: 0.7311 - val_acc: 0.6327\n",
      "Epoch 23/300\n",
      "554/554 [==============================] - 0s 412us/step - loss: 0.6973 - acc: 0.6534 - val_loss: 0.7438 - val_acc: 0.6224\n",
      "Epoch 24/300\n",
      "554/554 [==============================] - 0s 357us/step - loss: 0.6906 - acc: 0.6643 - val_loss: 0.7495 - val_acc: 0.5918\n",
      "Epoch 25/300\n",
      "554/554 [==============================] - 0s 282us/step - loss: 0.7018 - acc: 0.6516 - val_loss: 0.7423 - val_acc: 0.6327\n",
      "Epoch 26/300\n",
      "554/554 [==============================] - 0s 288us/step - loss: 0.6853 - acc: 0.6769 - val_loss: 0.7781 - val_acc: 0.6531\n",
      "Epoch 27/300\n",
      "554/554 [==============================] - 0s 263us/step - loss: 0.6864 - acc: 0.6787 - val_loss: 0.7231 - val_acc: 0.6224\n",
      "Epoch 28/300\n",
      "554/554 [==============================] - 0s 297us/step - loss: 0.6904 - acc: 0.6679 - val_loss: 0.7427 - val_acc: 0.6327\n",
      "Epoch 29/300\n",
      "554/554 [==============================] - 0s 368us/step - loss: 0.6809 - acc: 0.6877 - val_loss: 0.7741 - val_acc: 0.6633\n",
      "Epoch 30/300\n",
      "554/554 [==============================] - 0s 293us/step - loss: 0.6755 - acc: 0.6787 - val_loss: 0.7253 - val_acc: 0.6020\n",
      "Epoch 31/300\n",
      "554/554 [==============================] - 0s 298us/step - loss: 0.6800 - acc: 0.6679 - val_loss: 0.7225 - val_acc: 0.6531\n",
      "Epoch 32/300\n",
      "554/554 [==============================] - 0s 239us/step - loss: 0.6942 - acc: 0.6372 - val_loss: 0.7403 - val_acc: 0.6837\n",
      "Epoch 33/300\n",
      "554/554 [==============================] - 0s 241us/step - loss: 0.6719 - acc: 0.6895 - val_loss: 0.7384 - val_acc: 0.6939\n",
      "Epoch 34/300\n",
      "554/554 [==============================] - 0s 240us/step - loss: 0.6743 - acc: 0.6733 - val_loss: 0.7155 - val_acc: 0.6531\n",
      "Epoch 35/300\n",
      "554/554 [==============================] - 0s 402us/step - loss: 0.6676 - acc: 0.6823 - val_loss: 0.7137 - val_acc: 0.6837\n",
      "Epoch 36/300\n",
      "554/554 [==============================] - 0s 335us/step - loss: 0.6846 - acc: 0.6751 - val_loss: 0.7292 - val_acc: 0.6327\n",
      "Epoch 37/300\n",
      "554/554 [==============================] - 0s 344us/step - loss: 0.6862 - acc: 0.6715 - val_loss: 0.7763 - val_acc: 0.6837\n",
      "Epoch 38/300\n",
      "554/554 [==============================] - 0s 243us/step - loss: 0.6747 - acc: 0.6823 - val_loss: 0.7725 - val_acc: 0.6531\n",
      "Epoch 39/300\n",
      "554/554 [==============================] - 0s 240us/step - loss: 0.6649 - acc: 0.7094 - val_loss: 0.7174 - val_acc: 0.6633\n",
      "Epoch 40/300\n",
      "554/554 [==============================] - 0s 269us/step - loss: 0.6743 - acc: 0.6841 - val_loss: 0.7133 - val_acc: 0.6837\n",
      "Epoch 41/300\n",
      "554/554 [==============================] - 0s 270us/step - loss: 0.6657 - acc: 0.7256 - val_loss: 0.7408 - val_acc: 0.6531\n",
      "Epoch 42/300\n",
      "554/554 [==============================] - 0s 282us/step - loss: 0.6678 - acc: 0.7076 - val_loss: 0.7138 - val_acc: 0.6837\n",
      "Epoch 43/300\n",
      "554/554 [==============================] - 0s 256us/step - loss: 0.6732 - acc: 0.6733 - val_loss: 0.7105 - val_acc: 0.6939\n",
      "Epoch 44/300\n",
      "554/554 [==============================] - 0s 286us/step - loss: 0.6598 - acc: 0.6986 - val_loss: 0.7430 - val_acc: 0.6327\n",
      "Epoch 45/300\n",
      "554/554 [==============================] - 0s 249us/step - loss: 0.6680 - acc: 0.6931 - val_loss: 0.7071 - val_acc: 0.7041\n",
      "Epoch 46/300\n",
      "554/554 [==============================] - 0s 231us/step - loss: 0.6660 - acc: 0.6895 - val_loss: 0.7160 - val_acc: 0.7143\n",
      "Epoch 47/300\n",
      "554/554 [==============================] - 0s 232us/step - loss: 0.6620 - acc: 0.6877 - val_loss: 0.7174 - val_acc: 0.6939\n",
      "Epoch 48/300\n",
      "554/554 [==============================] - 0s 259us/step - loss: 0.6709 - acc: 0.6895 - val_loss: 0.7387 - val_acc: 0.6633\n",
      "Epoch 49/300\n",
      "554/554 [==============================] - 0s 250us/step - loss: 0.6700 - acc: 0.7112 - val_loss: 0.7289 - val_acc: 0.6939\n",
      "Epoch 50/300\n",
      "554/554 [==============================] - 0s 234us/step - loss: 0.6695 - acc: 0.6913 - val_loss: 0.7066 - val_acc: 0.6939\n",
      "Epoch 51/300\n",
      "554/554 [==============================] - 0s 228us/step - loss: 0.6588 - acc: 0.6913 - val_loss: 0.7003 - val_acc: 0.6837\n",
      "Epoch 52/300\n",
      "554/554 [==============================] - 0s 258us/step - loss: 0.6608 - acc: 0.7040 - val_loss: 0.7062 - val_acc: 0.6429\n",
      "Epoch 53/300\n",
      "554/554 [==============================] - 0s 248us/step - loss: 0.6573 - acc: 0.7040 - val_loss: 0.7085 - val_acc: 0.7041\n",
      "Epoch 54/300\n",
      "554/554 [==============================] - 0s 235us/step - loss: 0.6672 - acc: 0.7112 - val_loss: 0.7087 - val_acc: 0.6531\n",
      "Epoch 55/300\n",
      "554/554 [==============================] - 0s 298us/step - loss: 0.6634 - acc: 0.6949 - val_loss: 0.7125 - val_acc: 0.6939\n",
      "Epoch 56/300\n",
      "554/554 [==============================] - 0s 261us/step - loss: 0.6669 - acc: 0.6931 - val_loss: 0.7047 - val_acc: 0.6837\n",
      "Epoch 57/300\n",
      "554/554 [==============================] - 0s 233us/step - loss: 0.6604 - acc: 0.6968 - val_loss: 0.7034 - val_acc: 0.7041\n",
      "Epoch 58/300\n",
      "554/554 [==============================] - 0s 250us/step - loss: 0.6571 - acc: 0.7004 - val_loss: 0.7018 - val_acc: 0.6837\n",
      "Epoch 59/300\n",
      "554/554 [==============================] - 0s 295us/step - loss: 0.6581 - acc: 0.7058 - val_loss: 0.6966 - val_acc: 0.6837\n",
      "Epoch 60/300\n",
      "554/554 [==============================] - 0s 244us/step - loss: 0.6496 - acc: 0.7329 - val_loss: 0.7107 - val_acc: 0.6633\n"
     ]
    },
    {
     "name": "stdout",
     "output_type": "stream",
     "text": [
      "Epoch 61/300\n",
      "554/554 [==============================] - 0s 235us/step - loss: 0.6590 - acc: 0.7022 - val_loss: 0.7027 - val_acc: 0.6939\n",
      "Epoch 62/300\n",
      "554/554 [==============================] - 0s 230us/step - loss: 0.6564 - acc: 0.7040 - val_loss: 0.6958 - val_acc: 0.6939\n",
      "Epoch 63/300\n",
      "554/554 [==============================] - 0s 230us/step - loss: 0.6590 - acc: 0.7094 - val_loss: 0.7036 - val_acc: 0.7041\n",
      "Epoch 64/300\n",
      "554/554 [==============================] - 0s 220us/step - loss: 0.6533 - acc: 0.7076 - val_loss: 0.7083 - val_acc: 0.6939\n",
      "Epoch 65/300\n",
      "554/554 [==============================] - 0s 237us/step - loss: 0.6631 - acc: 0.6986 - val_loss: 0.7097 - val_acc: 0.7143\n",
      "Epoch 66/300\n",
      "554/554 [==============================] - 0s 227us/step - loss: 0.6612 - acc: 0.6968 - val_loss: 0.7090 - val_acc: 0.7041\n",
      "Epoch 67/300\n",
      "554/554 [==============================] - 0s 252us/step - loss: 0.6532 - acc: 0.7040 - val_loss: 0.6943 - val_acc: 0.7041\n",
      "Epoch 68/300\n",
      "554/554 [==============================] - 0s 250us/step - loss: 0.6487 - acc: 0.7238 - val_loss: 0.6997 - val_acc: 0.7041\n",
      "Epoch 69/300\n",
      "554/554 [==============================] - 0s 252us/step - loss: 0.6606 - acc: 0.7112 - val_loss: 0.7020 - val_acc: 0.7143\n",
      "Epoch 70/300\n",
      "554/554 [==============================] - 0s 261us/step - loss: 0.6571 - acc: 0.7094 - val_loss: 0.6943 - val_acc: 0.6939\n",
      "Epoch 71/300\n",
      "554/554 [==============================] - 0s 242us/step - loss: 0.6565 - acc: 0.6895 - val_loss: 0.6940 - val_acc: 0.6939\n",
      "Epoch 72/300\n",
      "554/554 [==============================] - 0s 266us/step - loss: 0.6492 - acc: 0.7130 - val_loss: 0.7045 - val_acc: 0.6939\n",
      "Epoch 73/300\n",
      "554/554 [==============================] - 0s 234us/step - loss: 0.6469 - acc: 0.7148 - val_loss: 0.7218 - val_acc: 0.6939\n",
      "Epoch 74/300\n",
      "554/554 [==============================] - 0s 310us/step - loss: 0.6478 - acc: 0.7274 - val_loss: 0.6919 - val_acc: 0.7041\n",
      "Epoch 75/300\n",
      "554/554 [==============================] - 0s 274us/step - loss: 0.6488 - acc: 0.7130 - val_loss: 0.7200 - val_acc: 0.6837\n",
      "Epoch 76/300\n",
      "554/554 [==============================] - 0s 223us/step - loss: 0.6447 - acc: 0.7202 - val_loss: 0.6940 - val_acc: 0.6735\n",
      "Epoch 77/300\n",
      "554/554 [==============================] - 0s 232us/step - loss: 0.6553 - acc: 0.7220 - val_loss: 0.6932 - val_acc: 0.7347\n",
      "Epoch 78/300\n",
      "554/554 [==============================] - 0s 230us/step - loss: 0.6626 - acc: 0.6931 - val_loss: 0.6956 - val_acc: 0.6531\n",
      "Epoch 79/300\n",
      "554/554 [==============================] - 0s 276us/step - loss: 0.6476 - acc: 0.7130 - val_loss: 0.6860 - val_acc: 0.7245\n",
      "Epoch 80/300\n",
      "554/554 [==============================] - 0s 262us/step - loss: 0.6432 - acc: 0.7274 - val_loss: 0.7302 - val_acc: 0.6939\n",
      "Epoch 81/300\n",
      "554/554 [==============================] - 0s 260us/step - loss: 0.6485 - acc: 0.7184 - val_loss: 0.6880 - val_acc: 0.7449\n",
      "Epoch 82/300\n",
      "554/554 [==============================] - 0s 242us/step - loss: 0.6402 - acc: 0.7274 - val_loss: 0.7215 - val_acc: 0.6837\n",
      "Epoch 83/300\n",
      "554/554 [==============================] - 0s 259us/step - loss: 0.6562 - acc: 0.7184 - val_loss: 0.7068 - val_acc: 0.7143\n",
      "Epoch 84/300\n",
      "554/554 [==============================] - 0s 255us/step - loss: 0.6439 - acc: 0.7238 - val_loss: 0.6942 - val_acc: 0.6837\n",
      "Epoch 85/300\n",
      "554/554 [==============================] - 0s 228us/step - loss: 0.6505 - acc: 0.7220 - val_loss: 0.6919 - val_acc: 0.7449\n",
      "Epoch 86/300\n",
      "554/554 [==============================] - 0s 226us/step - loss: 0.6550 - acc: 0.7148 - val_loss: 0.6948 - val_acc: 0.6735\n",
      "Epoch 87/300\n",
      "554/554 [==============================] - 0s 230us/step - loss: 0.6412 - acc: 0.7292 - val_loss: 0.6873 - val_acc: 0.6735\n",
      "Epoch 88/300\n",
      "554/554 [==============================] - 0s 264us/step - loss: 0.6471 - acc: 0.7256 - val_loss: 0.6997 - val_acc: 0.7347\n",
      "Epoch 89/300\n",
      "554/554 [==============================] - 0s 246us/step - loss: 0.6427 - acc: 0.7310 - val_loss: 0.6841 - val_acc: 0.7041\n",
      "Epoch 90/300\n",
      "554/554 [==============================] - 0s 231us/step - loss: 0.6409 - acc: 0.7202 - val_loss: 0.6883 - val_acc: 0.7551\n",
      "Epoch 91/300\n",
      "554/554 [==============================] - 0s 297us/step - loss: 0.6428 - acc: 0.7329 - val_loss: 0.6914 - val_acc: 0.7347\n",
      "Epoch 92/300\n",
      "554/554 [==============================] - 0s 219us/step - loss: 0.6476 - acc: 0.7274 - val_loss: 0.6910 - val_acc: 0.7041\n",
      "Epoch 93/300\n",
      "554/554 [==============================] - 0s 229us/step - loss: 0.6471 - acc: 0.7274 - val_loss: 0.6862 - val_acc: 0.6939\n",
      "Epoch 94/300\n",
      "554/554 [==============================] - 0s 228us/step - loss: 0.6396 - acc: 0.7256 - val_loss: 0.6783 - val_acc: 0.7347\n",
      "Epoch 95/300\n",
      "554/554 [==============================] - 0s 251us/step - loss: 0.6406 - acc: 0.7238 - val_loss: 0.7169 - val_acc: 0.6735\n",
      "Epoch 96/300\n",
      "554/554 [==============================] - 0s 264us/step - loss: 0.6386 - acc: 0.7184 - val_loss: 0.6786 - val_acc: 0.7245\n",
      "Epoch 97/300\n",
      "554/554 [==============================] - 0s 222us/step - loss: 0.6386 - acc: 0.7220 - val_loss: 0.7007 - val_acc: 0.7041\n",
      "Epoch 98/300\n",
      "554/554 [==============================] - 0s 224us/step - loss: 0.6374 - acc: 0.7220 - val_loss: 0.6799 - val_acc: 0.6735\n",
      "Epoch 99/300\n",
      "554/554 [==============================] - 0s 254us/step - loss: 0.6506 - acc: 0.7130 - val_loss: 0.6918 - val_acc: 0.6327\n",
      "Epoch 100/300\n",
      "554/554 [==============================] - 0s 225us/step - loss: 0.6434 - acc: 0.7220 - val_loss: 0.6818 - val_acc: 0.7245\n",
      "Epoch 101/300\n",
      "554/554 [==============================] - 0s 290us/step - loss: 0.6424 - acc: 0.7292 - val_loss: 0.6987 - val_acc: 0.6939\n",
      "Epoch 102/300\n",
      "554/554 [==============================] - 0s 241us/step - loss: 0.6364 - acc: 0.7437 - val_loss: 0.6905 - val_acc: 0.6531\n",
      "Epoch 103/300\n",
      "554/554 [==============================] - 0s 223us/step - loss: 0.6396 - acc: 0.7274 - val_loss: 0.6869 - val_acc: 0.7449\n",
      "Epoch 104/300\n",
      "554/554 [==============================] - 0s 239us/step - loss: 0.6467 - acc: 0.7184 - val_loss: 0.7109 - val_acc: 0.6735\n",
      "Epoch 105/300\n",
      "554/554 [==============================] - 0s 215us/step - loss: 0.6419 - acc: 0.7329 - val_loss: 0.6757 - val_acc: 0.7347\n",
      "Epoch 106/300\n",
      "554/554 [==============================] - 0s 225us/step - loss: 0.6313 - acc: 0.7347 - val_loss: 0.7003 - val_acc: 0.6939\n",
      "Epoch 107/300\n",
      "554/554 [==============================] - 0s 266us/step - loss: 0.6484 - acc: 0.7292 - val_loss: 0.6893 - val_acc: 0.6429\n",
      "Epoch 108/300\n",
      "554/554 [==============================] - 0s 200us/step - loss: 0.6469 - acc: 0.7365 - val_loss: 0.6888 - val_acc: 0.7551\n",
      "Epoch 109/300\n",
      "554/554 [==============================] - 0s 214us/step - loss: 0.6402 - acc: 0.7329 - val_loss: 0.6769 - val_acc: 0.6939\n",
      "Epoch 110/300\n",
      "554/554 [==============================] - 0s 228us/step - loss: 0.6400 - acc: 0.7437 - val_loss: 0.6927 - val_acc: 0.7449\n",
      "Epoch 111/300\n",
      "554/554 [==============================] - 0s 278us/step - loss: 0.6416 - acc: 0.7274 - val_loss: 0.6697 - val_acc: 0.7347\n",
      "Epoch 112/300\n",
      "554/554 [==============================] - 0s 281us/step - loss: 0.6414 - acc: 0.7184 - val_loss: 0.6992 - val_acc: 0.7041\n",
      "Epoch 113/300\n",
      "554/554 [==============================] - 0s 296us/step - loss: 0.6339 - acc: 0.7437 - val_loss: 0.6799 - val_acc: 0.6837\n",
      "Epoch 114/300\n",
      "554/554 [==============================] - 0s 277us/step - loss: 0.6330 - acc: 0.7383 - val_loss: 0.6896 - val_acc: 0.7449\n",
      "Epoch 115/300\n",
      "554/554 [==============================] - 0s 335us/step - loss: 0.6320 - acc: 0.7401 - val_loss: 0.6743 - val_acc: 0.6633\n",
      "Epoch 116/300\n",
      "554/554 [==============================] - 0s 286us/step - loss: 0.6309 - acc: 0.7509 - val_loss: 0.6754 - val_acc: 0.7041\n",
      "Epoch 117/300\n",
      "554/554 [==============================] - 0s 312us/step - loss: 0.6368 - acc: 0.7094 - val_loss: 0.6788 - val_acc: 0.7245\n",
      "Epoch 118/300\n",
      "554/554 [==============================] - 0s 291us/step - loss: 0.6346 - acc: 0.7455 - val_loss: 0.6756 - val_acc: 0.7449\n",
      "Epoch 119/300\n",
      "554/554 [==============================] - 0s 245us/step - loss: 0.6317 - acc: 0.7238 - val_loss: 0.6913 - val_acc: 0.6429\n",
      "Epoch 120/300\n",
      "554/554 [==============================] - 0s 263us/step - loss: 0.6404 - acc: 0.7256 - val_loss: 0.6938 - val_acc: 0.7245\n",
      "Epoch 121/300\n"
     ]
    },
    {
     "name": "stdout",
     "output_type": "stream",
     "text": [
      "554/554 [==============================] - 0s 459us/step - loss: 0.6291 - acc: 0.7437 - val_loss: 0.6721 - val_acc: 0.7653\n",
      "Epoch 122/300\n",
      "554/554 [==============================] - 0s 318us/step - loss: 0.6289 - acc: 0.7365 - val_loss: 0.6870 - val_acc: 0.6735\n",
      "Epoch 123/300\n",
      "554/554 [==============================] - 0s 281us/step - loss: 0.6294 - acc: 0.7491 - val_loss: 0.6658 - val_acc: 0.7347\n",
      "Epoch 124/300\n",
      "554/554 [==============================] - 0s 241us/step - loss: 0.6273 - acc: 0.7581 - val_loss: 0.7225 - val_acc: 0.7041\n",
      "Epoch 125/300\n",
      "554/554 [==============================] - 0s 338us/step - loss: 0.6362 - acc: 0.7365 - val_loss: 0.6801 - val_acc: 0.6837\n",
      "Epoch 126/300\n",
      "554/554 [==============================] - 0s 291us/step - loss: 0.6368 - acc: 0.7292 - val_loss: 0.6760 - val_acc: 0.7347\n",
      "Epoch 127/300\n",
      "554/554 [==============================] - 0s 264us/step - loss: 0.6365 - acc: 0.7202 - val_loss: 0.6790 - val_acc: 0.7347\n",
      "Epoch 128/300\n",
      "554/554 [==============================] - 0s 363us/step - loss: 0.6385 - acc: 0.7347 - val_loss: 0.7028 - val_acc: 0.7449\n",
      "Epoch 129/300\n",
      "554/554 [==============================] - 0s 217us/step - loss: 0.6395 - acc: 0.7238 - val_loss: 0.6909 - val_acc: 0.7347\n",
      "Epoch 130/300\n",
      "554/554 [==============================] - 0s 277us/step - loss: 0.6294 - acc: 0.7581 - val_loss: 0.7595 - val_acc: 0.6939\n",
      "Epoch 131/300\n",
      "554/554 [==============================] - 0s 241us/step - loss: 0.6541 - acc: 0.7329 - val_loss: 0.6771 - val_acc: 0.7449\n",
      "Epoch 132/300\n",
      "554/554 [==============================] - 0s 285us/step - loss: 0.6309 - acc: 0.7527 - val_loss: 0.6760 - val_acc: 0.6837\n",
      "Epoch 133/300\n",
      "554/554 [==============================] - 0s 671us/step - loss: 0.6244 - acc: 0.7437 - val_loss: 0.6873 - val_acc: 0.7143\n",
      "Epoch 134/300\n",
      "554/554 [==============================] - 0s 505us/step - loss: 0.6293 - acc: 0.7545 - val_loss: 0.6693 - val_acc: 0.7347\n",
      "Epoch 135/300\n",
      "554/554 [==============================] - 0s 357us/step - loss: 0.6271 - acc: 0.7310 - val_loss: 0.7467 - val_acc: 0.6735\n",
      "Epoch 136/300\n",
      "554/554 [==============================] - 0s 317us/step - loss: 0.6291 - acc: 0.7563 - val_loss: 0.6904 - val_acc: 0.7245\n",
      "Epoch 137/300\n",
      "554/554 [==============================] - 0s 273us/step - loss: 0.6307 - acc: 0.7473 - val_loss: 0.6700 - val_acc: 0.7347\n",
      "Epoch 138/300\n",
      "554/554 [==============================] - 0s 279us/step - loss: 0.6282 - acc: 0.7419 - val_loss: 0.6629 - val_acc: 0.7143\n",
      "Epoch 139/300\n",
      "554/554 [==============================] - 0s 257us/step - loss: 0.6251 - acc: 0.7202 - val_loss: 0.6868 - val_acc: 0.7041\n",
      "Epoch 140/300\n",
      "554/554 [==============================] - 0s 313us/step - loss: 0.6289 - acc: 0.7455 - val_loss: 0.6701 - val_acc: 0.7551\n",
      "Epoch 141/300\n",
      "554/554 [==============================] - 0s 276us/step - loss: 0.6261 - acc: 0.7455 - val_loss: 0.6711 - val_acc: 0.7449\n",
      "Epoch 142/300\n",
      "554/554 [==============================] - 0s 301us/step - loss: 0.6265 - acc: 0.7329 - val_loss: 0.6783 - val_acc: 0.6633\n",
      "Epoch 143/300\n",
      "554/554 [==============================] - 0s 224us/step - loss: 0.6254 - acc: 0.7419 - val_loss: 0.6663 - val_acc: 0.7143\n",
      "Epoch 144/300\n",
      "554/554 [==============================] - 0s 211us/step - loss: 0.6317 - acc: 0.7455 - val_loss: 0.6672 - val_acc: 0.7041\n",
      "Epoch 145/300\n",
      "554/554 [==============================] - 0s 223us/step - loss: 0.6259 - acc: 0.7419 - val_loss: 0.6704 - val_acc: 0.6735\n",
      "Epoch 146/300\n",
      "554/554 [==============================] - 0s 314us/step - loss: 0.6253 - acc: 0.7220 - val_loss: 0.6700 - val_acc: 0.7245\n",
      "Epoch 147/300\n",
      "554/554 [==============================] - 0s 282us/step - loss: 0.6264 - acc: 0.7383 - val_loss: 0.6740 - val_acc: 0.6531\n",
      "Epoch 148/300\n",
      "554/554 [==============================] - 0s 259us/step - loss: 0.6258 - acc: 0.7329 - val_loss: 0.6710 - val_acc: 0.6735\n",
      "Epoch 149/300\n",
      "554/554 [==============================] - 0s 226us/step - loss: 0.6296 - acc: 0.7383 - val_loss: 0.6776 - val_acc: 0.6837\n",
      "Epoch 150/300\n",
      "554/554 [==============================] - 0s 192us/step - loss: 0.6449 - acc: 0.7274 - val_loss: 0.6697 - val_acc: 0.7449\n",
      "Epoch 151/300\n",
      "554/554 [==============================] - 0s 214us/step - loss: 0.6227 - acc: 0.7509 - val_loss: 0.6650 - val_acc: 0.7653\n",
      "Epoch 152/300\n",
      "554/554 [==============================] - 0s 191us/step - loss: 0.6297 - acc: 0.7274 - val_loss: 0.6606 - val_acc: 0.7653\n",
      "Epoch 153/300\n",
      "554/554 [==============================] - 0s 194us/step - loss: 0.6186 - acc: 0.7419 - val_loss: 0.6702 - val_acc: 0.7653\n",
      "Epoch 154/300\n",
      "554/554 [==============================] - 0s 213us/step - loss: 0.6225 - acc: 0.7545 - val_loss: 0.6632 - val_acc: 0.7449\n",
      "Epoch 155/300\n",
      "554/554 [==============================] - 0s 200us/step - loss: 0.6240 - acc: 0.7491 - val_loss: 0.6684 - val_acc: 0.7347\n",
      "Epoch 156/300\n",
      "554/554 [==============================] - 0s 189us/step - loss: 0.6242 - acc: 0.7365 - val_loss: 0.6612 - val_acc: 0.7551\n",
      "Epoch 157/300\n",
      "554/554 [==============================] - 0s 233us/step - loss: 0.6215 - acc: 0.7347 - val_loss: 0.6661 - val_acc: 0.6939\n",
      "Epoch 158/300\n",
      "554/554 [==============================] - 0s 322us/step - loss: 0.6205 - acc: 0.7329 - val_loss: 0.6656 - val_acc: 0.6939\n",
      "Epoch 159/300\n",
      "554/554 [==============================] - 0s 228us/step - loss: 0.6161 - acc: 0.7455 - val_loss: 0.6640 - val_acc: 0.7041\n",
      "Epoch 160/300\n",
      "554/554 [==============================] - 0s 252us/step - loss: 0.6200 - acc: 0.7509 - val_loss: 0.6589 - val_acc: 0.7245\n",
      "Epoch 161/300\n",
      "554/554 [==============================] - 0s 209us/step - loss: 0.6204 - acc: 0.7563 - val_loss: 0.6576 - val_acc: 0.7143\n",
      "Epoch 162/300\n",
      "554/554 [==============================] - 0s 195us/step - loss: 0.6382 - acc: 0.7292 - val_loss: 0.6905 - val_acc: 0.6837\n",
      "Epoch 163/300\n",
      "554/554 [==============================] - 0s 256us/step - loss: 0.6206 - acc: 0.7455 - val_loss: 0.6687 - val_acc: 0.6939\n",
      "Epoch 164/300\n",
      "554/554 [==============================] - 0s 305us/step - loss: 0.6298 - acc: 0.7509 - val_loss: 0.6572 - val_acc: 0.7245\n",
      "Epoch 165/300\n",
      "554/554 [==============================] - 0s 249us/step - loss: 0.6301 - acc: 0.7581 - val_loss: 0.6639 - val_acc: 0.7245\n",
      "Epoch 166/300\n",
      "554/554 [==============================] - 0s 194us/step - loss: 0.6298 - acc: 0.7347 - val_loss: 0.6648 - val_acc: 0.7653\n",
      "Epoch 167/300\n",
      "554/554 [==============================] - 0s 217us/step - loss: 0.6199 - acc: 0.7527 - val_loss: 0.6651 - val_acc: 0.7755\n",
      "Epoch 168/300\n",
      "554/554 [==============================] - 0s 218us/step - loss: 0.6154 - acc: 0.7690 - val_loss: 0.6855 - val_acc: 0.7347\n",
      "Epoch 169/300\n",
      "554/554 [==============================] - 0s 223us/step - loss: 0.6217 - acc: 0.7455 - val_loss: 0.6614 - val_acc: 0.7347\n",
      "Epoch 170/300\n",
      "554/554 [==============================] - 0s 387us/step - loss: 0.6191 - acc: 0.7545 - val_loss: 0.6597 - val_acc: 0.7041\n",
      "Epoch 171/300\n",
      "554/554 [==============================] - 0s 275us/step - loss: 0.6225 - acc: 0.7491 - val_loss: 0.6625 - val_acc: 0.7245\n",
      "Epoch 172/300\n",
      "554/554 [==============================] - 0s 268us/step - loss: 0.6157 - acc: 0.7653 - val_loss: 0.6622 - val_acc: 0.7347\n",
      "Epoch 173/300\n",
      "554/554 [==============================] - 0s 238us/step - loss: 0.6158 - acc: 0.7383 - val_loss: 0.6687 - val_acc: 0.6837\n",
      "Epoch 174/300\n",
      "554/554 [==============================] - 0s 207us/step - loss: 0.6296 - acc: 0.7473 - val_loss: 0.6642 - val_acc: 0.7041\n",
      "Epoch 175/300\n",
      "554/554 [==============================] - 0s 203us/step - loss: 0.6232 - acc: 0.7581 - val_loss: 0.6650 - val_acc: 0.7245\n",
      "Epoch 176/300\n",
      "554/554 [==============================] - 0s 207us/step - loss: 0.6386 - acc: 0.7617 - val_loss: 0.6565 - val_acc: 0.7449\n",
      "Epoch 177/300\n",
      "554/554 [==============================] - 0s 214us/step - loss: 0.6154 - acc: 0.7545 - val_loss: 0.6510 - val_acc: 0.7755\n",
      "Epoch 178/300\n",
      "554/554 [==============================] - 0s 224us/step - loss: 0.6130 - acc: 0.7617 - val_loss: 0.6541 - val_acc: 0.7449\n",
      "Epoch 179/300\n",
      "554/554 [==============================] - 0s 231us/step - loss: 0.6254 - acc: 0.7599 - val_loss: 0.6651 - val_acc: 0.6939\n",
      "Epoch 180/300\n",
      "554/554 [==============================] - 0s 248us/step - loss: 0.6221 - acc: 0.7581 - val_loss: 0.6549 - val_acc: 0.7653\n"
     ]
    },
    {
     "name": "stdout",
     "output_type": "stream",
     "text": [
      "Epoch 181/300\n",
      "554/554 [==============================] - 0s 244us/step - loss: 0.6257 - acc: 0.7563 - val_loss: 0.6664 - val_acc: 0.6837\n",
      "Epoch 182/300\n",
      "554/554 [==============================] - 0s 203us/step - loss: 0.6146 - acc: 0.7473 - val_loss: 0.6674 - val_acc: 0.7041\n",
      "Epoch 183/300\n",
      "554/554 [==============================] - 0s 191us/step - loss: 0.6146 - acc: 0.7310 - val_loss: 0.6527 - val_acc: 0.7653\n",
      "Epoch 184/300\n",
      "554/554 [==============================] - 0s 217us/step - loss: 0.6125 - acc: 0.7473 - val_loss: 0.6591 - val_acc: 0.7041\n",
      "Epoch 185/300\n",
      "554/554 [==============================] - 0s 214us/step - loss: 0.6182 - acc: 0.7473 - val_loss: 0.6834 - val_acc: 0.6633\n",
      "Epoch 186/300\n",
      "554/554 [==============================] - 0s 217us/step - loss: 0.6234 - acc: 0.7491 - val_loss: 0.6461 - val_acc: 0.7449\n",
      "Epoch 187/300\n",
      "554/554 [==============================] - 0s 222us/step - loss: 0.6117 - acc: 0.7581 - val_loss: 0.6579 - val_acc: 0.7347\n",
      "Epoch 188/300\n",
      "554/554 [==============================] - 0s 221us/step - loss: 0.6131 - acc: 0.7599 - val_loss: 0.6563 - val_acc: 0.7143\n",
      "Epoch 189/300\n",
      "554/554 [==============================] - 0s 211us/step - loss: 0.6183 - acc: 0.7545 - val_loss: 0.6558 - val_acc: 0.7347\n",
      "Epoch 190/300\n",
      "554/554 [==============================] - 0s 227us/step - loss: 0.6186 - acc: 0.7617 - val_loss: 0.6496 - val_acc: 0.7551\n",
      "Epoch 191/300\n",
      "554/554 [==============================] - 0s 200us/step - loss: 0.6081 - acc: 0.7563 - val_loss: 0.6633 - val_acc: 0.7347\n",
      "Epoch 192/300\n",
      "554/554 [==============================] - 0s 318us/step - loss: 0.6264 - acc: 0.7220 - val_loss: 0.6571 - val_acc: 0.6939\n",
      "Epoch 193/300\n",
      "554/554 [==============================] - 0s 257us/step - loss: 0.6224 - acc: 0.7329 - val_loss: 0.6552 - val_acc: 0.7143\n",
      "Epoch 194/300\n",
      "554/554 [==============================] - 0s 263us/step - loss: 0.6107 - acc: 0.7563 - val_loss: 0.6488 - val_acc: 0.7755\n",
      "Epoch 195/300\n",
      "554/554 [==============================] - 0s 236us/step - loss: 0.6091 - acc: 0.7599 - val_loss: 0.6459 - val_acc: 0.7551\n",
      "Epoch 196/300\n",
      "554/554 [==============================] - 0s 239us/step - loss: 0.6119 - acc: 0.7473 - val_loss: 0.6566 - val_acc: 0.7143\n",
      "Epoch 197/300\n",
      "554/554 [==============================] - 0s 217us/step - loss: 0.6080 - acc: 0.7545 - val_loss: 0.6465 - val_acc: 0.7551\n",
      "Epoch 198/300\n",
      "554/554 [==============================] - 0s 207us/step - loss: 0.6140 - acc: 0.7473 - val_loss: 0.6624 - val_acc: 0.6837\n",
      "Epoch 199/300\n",
      "554/554 [==============================] - 0s 260us/step - loss: 0.6126 - acc: 0.7599 - val_loss: 0.6469 - val_acc: 0.7653\n",
      "Epoch 200/300\n",
      "554/554 [==============================] - 0s 296us/step - loss: 0.6099 - acc: 0.7455 - val_loss: 0.6439 - val_acc: 0.7857\n",
      "Epoch 201/300\n",
      "554/554 [==============================] - 0s 316us/step - loss: 0.6133 - acc: 0.7581 - val_loss: 0.6436 - val_acc: 0.7653\n",
      "Epoch 202/300\n",
      "554/554 [==============================] - 0s 236us/step - loss: 0.6137 - acc: 0.7491 - val_loss: 0.6488 - val_acc: 0.7653\n",
      "Epoch 203/300\n",
      "554/554 [==============================] - 0s 212us/step - loss: 0.6134 - acc: 0.7545 - val_loss: 0.6432 - val_acc: 0.7347\n",
      "Epoch 204/300\n",
      "554/554 [==============================] - 0s 265us/step - loss: 0.6060 - acc: 0.7563 - val_loss: 0.6471 - val_acc: 0.7347\n",
      "Epoch 205/300\n",
      "554/554 [==============================] - 0s 271us/step - loss: 0.6262 - acc: 0.7437 - val_loss: 0.6595 - val_acc: 0.7041\n",
      "Epoch 206/300\n",
      "554/554 [==============================] - 0s 286us/step - loss: 0.6058 - acc: 0.7617 - val_loss: 0.6447 - val_acc: 0.7551\n",
      "Epoch 207/300\n",
      "554/554 [==============================] - 0s 214us/step - loss: 0.6110 - acc: 0.7726 - val_loss: 0.6418 - val_acc: 0.7755\n",
      "Epoch 208/300\n",
      "554/554 [==============================] - 0s 241us/step - loss: 0.6034 - acc: 0.7671 - val_loss: 0.6506 - val_acc: 0.7449\n",
      "Epoch 209/300\n",
      "554/554 [==============================] - 0s 237us/step - loss: 0.6119 - acc: 0.7599 - val_loss: 0.6507 - val_acc: 0.7347\n",
      "Epoch 210/300\n",
      "554/554 [==============================] - 0s 253us/step - loss: 0.6091 - acc: 0.7581 - val_loss: 0.6406 - val_acc: 0.7551\n",
      "Epoch 211/300\n",
      "554/554 [==============================] - 0s 232us/step - loss: 0.6073 - acc: 0.7581 - val_loss: 0.6500 - val_acc: 0.7143\n",
      "Epoch 212/300\n",
      "554/554 [==============================] - 0s 233us/step - loss: 0.6035 - acc: 0.7671 - val_loss: 0.6450 - val_acc: 0.7245\n",
      "Epoch 213/300\n",
      "554/554 [==============================] - 0s 249us/step - loss: 0.6070 - acc: 0.7563 - val_loss: 0.6484 - val_acc: 0.7245\n",
      "Epoch 214/300\n",
      "554/554 [==============================] - 0s 234us/step - loss: 0.6089 - acc: 0.7653 - val_loss: 0.6343 - val_acc: 0.7653\n",
      "Epoch 215/300\n",
      "554/554 [==============================] - 0s 231us/step - loss: 0.6092 - acc: 0.7473 - val_loss: 0.6529 - val_acc: 0.7449\n",
      "Epoch 216/300\n",
      "554/554 [==============================] - 0s 199us/step - loss: 0.6035 - acc: 0.7635 - val_loss: 0.6542 - val_acc: 0.7449\n",
      "Epoch 217/300\n",
      "554/554 [==============================] - 0s 268us/step - loss: 0.6077 - acc: 0.7599 - val_loss: 0.6445 - val_acc: 0.7041\n",
      "Epoch 218/300\n",
      "554/554 [==============================] - 0s 216us/step - loss: 0.6033 - acc: 0.7690 - val_loss: 0.6404 - val_acc: 0.7755\n",
      "Epoch 219/300\n",
      "554/554 [==============================] - 0s 225us/step - loss: 0.6005 - acc: 0.7635 - val_loss: 0.6390 - val_acc: 0.7653\n",
      "Epoch 220/300\n",
      "554/554 [==============================] - 0s 231us/step - loss: 0.6019 - acc: 0.7545 - val_loss: 0.6341 - val_acc: 0.7449\n",
      "Epoch 221/300\n",
      "554/554 [==============================] - 0s 215us/step - loss: 0.6027 - acc: 0.7762 - val_loss: 0.6499 - val_acc: 0.7551\n",
      "Epoch 222/300\n",
      "554/554 [==============================] - 0s 200us/step - loss: 0.6059 - acc: 0.7563 - val_loss: 0.6359 - val_acc: 0.7551\n",
      "Epoch 223/300\n",
      "554/554 [==============================] - 0s 246us/step - loss: 0.6061 - acc: 0.7563 - val_loss: 0.6355 - val_acc: 0.7653\n",
      "Epoch 224/300\n",
      "554/554 [==============================] - 0s 234us/step - loss: 0.5990 - acc: 0.7690 - val_loss: 0.6339 - val_acc: 0.7551\n",
      "Epoch 225/300\n",
      "554/554 [==============================] - 0s 229us/step - loss: 0.6009 - acc: 0.7509 - val_loss: 0.6393 - val_acc: 0.7347\n",
      "Epoch 226/300\n",
      "554/554 [==============================] - 0s 202us/step - loss: 0.6000 - acc: 0.7726 - val_loss: 0.6369 - val_acc: 0.7653\n",
      "Epoch 227/300\n",
      "554/554 [==============================] - 0s 295us/step - loss: 0.5975 - acc: 0.7581 - val_loss: 0.6330 - val_acc: 0.7551\n",
      "Epoch 228/300\n",
      "554/554 [==============================] - 0s 200us/step - loss: 0.5972 - acc: 0.7762 - val_loss: 0.6277 - val_acc: 0.7551\n",
      "Epoch 229/300\n",
      "554/554 [==============================] - 0s 197us/step - loss: 0.5976 - acc: 0.7653 - val_loss: 0.6350 - val_acc: 0.7653\n",
      "Epoch 230/300\n",
      "554/554 [==============================] - 0s 195us/step - loss: 0.6029 - acc: 0.7635 - val_loss: 0.6323 - val_acc: 0.7551\n",
      "Epoch 231/300\n",
      "554/554 [==============================] - 0s 215us/step - loss: 0.6024 - acc: 0.7708 - val_loss: 0.6369 - val_acc: 0.7347\n",
      "Epoch 232/300\n",
      "554/554 [==============================] - 0s 232us/step - loss: 0.6020 - acc: 0.7780 - val_loss: 0.6354 - val_acc: 0.7755\n",
      "Epoch 233/300\n",
      "554/554 [==============================] - 0s 500us/step - loss: 0.5998 - acc: 0.7744 - val_loss: 0.6388 - val_acc: 0.7449\n",
      "Epoch 234/300\n",
      "554/554 [==============================] - 0s 392us/step - loss: 0.6045 - acc: 0.7653 - val_loss: 0.6421 - val_acc: 0.7347\n",
      "Epoch 235/300\n",
      "554/554 [==============================] - 0s 254us/step - loss: 0.6030 - acc: 0.7798 - val_loss: 0.6564 - val_acc: 0.6837\n",
      "Epoch 236/300\n",
      "554/554 [==============================] - 0s 264us/step - loss: 0.6133 - acc: 0.7563 - val_loss: 0.6528 - val_acc: 0.7551\n",
      "Epoch 237/300\n",
      "554/554 [==============================] - 0s 277us/step - loss: 0.5972 - acc: 0.7708 - val_loss: 0.6638 - val_acc: 0.7245\n",
      "Epoch 238/300\n",
      "554/554 [==============================] - 0s 487us/step - loss: 0.5997 - acc: 0.7816 - val_loss: 0.6331 - val_acc: 0.7551\n",
      "Epoch 239/300\n",
      "554/554 [==============================] - 0s 265us/step - loss: 0.6061 - acc: 0.7599 - val_loss: 0.6374 - val_acc: 0.7653\n",
      "Epoch 240/300\n",
      "554/554 [==============================] - 0s 221us/step - loss: 0.5917 - acc: 0.7798 - val_loss: 0.6384 - val_acc: 0.7653\n"
     ]
    },
    {
     "name": "stdout",
     "output_type": "stream",
     "text": [
      "Epoch 241/300\n",
      "554/554 [==============================] - 0s 273us/step - loss: 0.5990 - acc: 0.7617 - val_loss: 0.6313 - val_acc: 0.7653\n",
      "Epoch 242/300\n",
      "554/554 [==============================] - 0s 284us/step - loss: 0.5990 - acc: 0.7690 - val_loss: 0.6325 - val_acc: 0.7653\n",
      "Epoch 243/300\n",
      "554/554 [==============================] - 0s 263us/step - loss: 0.6002 - acc: 0.7816 - val_loss: 0.6338 - val_acc: 0.7653\n",
      "Epoch 244/300\n",
      "554/554 [==============================] - 0s 280us/step - loss: 0.5959 - acc: 0.7780 - val_loss: 0.6261 - val_acc: 0.7755\n",
      "Epoch 245/300\n",
      "554/554 [==============================] - 0s 265us/step - loss: 0.5972 - acc: 0.7708 - val_loss: 0.6325 - val_acc: 0.7653\n",
      "Epoch 246/300\n",
      "554/554 [==============================] - 0s 217us/step - loss: 0.6051 - acc: 0.7726 - val_loss: 0.6271 - val_acc: 0.7653\n",
      "Epoch 247/300\n",
      "554/554 [==============================] - 0s 219us/step - loss: 0.5969 - acc: 0.7563 - val_loss: 0.6295 - val_acc: 0.7653\n",
      "Epoch 248/300\n",
      "554/554 [==============================] - 0s 228us/step - loss: 0.5944 - acc: 0.7798 - val_loss: 0.6416 - val_acc: 0.7551\n",
      "Epoch 249/300\n",
      "554/554 [==============================] - 0s 225us/step - loss: 0.5980 - acc: 0.7617 - val_loss: 0.6282 - val_acc: 0.7959\n",
      "Epoch 250/300\n",
      "554/554 [==============================] - 0s 242us/step - loss: 0.5938 - acc: 0.7798 - val_loss: 0.6327 - val_acc: 0.7755\n",
      "Epoch 251/300\n",
      "554/554 [==============================] - 0s 294us/step - loss: 0.5969 - acc: 0.7888 - val_loss: 0.6283 - val_acc: 0.7959\n",
      "Epoch 252/300\n",
      "554/554 [==============================] - 0s 275us/step - loss: 0.5927 - acc: 0.7690 - val_loss: 0.6362 - val_acc: 0.7755\n",
      "Epoch 253/300\n",
      "554/554 [==============================] - 0s 193us/step - loss: 0.5959 - acc: 0.7762 - val_loss: 0.6388 - val_acc: 0.7857\n",
      "Epoch 254/300\n",
      "554/554 [==============================] - 0s 220us/step - loss: 0.5878 - acc: 0.7798 - val_loss: 0.6485 - val_acc: 0.7245\n",
      "Epoch 255/300\n",
      "554/554 [==============================] - 0s 287us/step - loss: 0.5964 - acc: 0.7762 - val_loss: 0.6277 - val_acc: 0.7857\n",
      "Epoch 256/300\n",
      "554/554 [==============================] - 0s 325us/step - loss: 0.5926 - acc: 0.7708 - val_loss: 0.6371 - val_acc: 0.7347\n",
      "Epoch 257/300\n",
      "554/554 [==============================] - 0s 238us/step - loss: 0.5932 - acc: 0.7744 - val_loss: 0.6285 - val_acc: 0.7755\n",
      "Epoch 258/300\n",
      "554/554 [==============================] - 0s 252us/step - loss: 0.5969 - acc: 0.7798 - val_loss: 0.6305 - val_acc: 0.7755\n",
      "Epoch 259/300\n",
      "554/554 [==============================] - 0s 336us/step - loss: 0.5871 - acc: 0.7906 - val_loss: 0.6367 - val_acc: 0.7347\n",
      "Epoch 260/300\n",
      "554/554 [==============================] - 0s 297us/step - loss: 0.5967 - acc: 0.7780 - val_loss: 0.6259 - val_acc: 0.7653\n",
      "Epoch 261/300\n",
      "554/554 [==============================] - 0s 257us/step - loss: 0.5936 - acc: 0.7798 - val_loss: 0.6278 - val_acc: 0.7449\n",
      "Epoch 262/300\n",
      "554/554 [==============================] - 0s 202us/step - loss: 0.5934 - acc: 0.7708 - val_loss: 0.6272 - val_acc: 0.7653\n",
      "Epoch 263/300\n",
      "554/554 [==============================] - 0s 216us/step - loss: 0.5856 - acc: 0.7942 - val_loss: 0.6282 - val_acc: 0.7551\n",
      "Epoch 264/300\n",
      "554/554 [==============================] - 0s 201us/step - loss: 0.5904 - acc: 0.7798 - val_loss: 0.6345 - val_acc: 0.7755\n",
      "Epoch 265/300\n",
      "554/554 [==============================] - 0s 239us/step - loss: 0.5924 - acc: 0.7744 - val_loss: 0.6320 - val_acc: 0.7653\n",
      "Epoch 266/300\n",
      "554/554 [==============================] - 0s 247us/step - loss: 0.5914 - acc: 0.7834 - val_loss: 0.6235 - val_acc: 0.7857\n",
      "Epoch 267/300\n",
      "554/554 [==============================] - 0s 346us/step - loss: 0.5846 - acc: 0.7816 - val_loss: 0.6315 - val_acc: 0.7449\n",
      "Epoch 268/300\n",
      "554/554 [==============================] - 0s 268us/step - loss: 0.5912 - acc: 0.7798 - val_loss: 0.6229 - val_acc: 0.7755\n",
      "Epoch 269/300\n",
      "554/554 [==============================] - 0s 214us/step - loss: 0.5969 - acc: 0.7671 - val_loss: 0.6659 - val_acc: 0.6837\n",
      "Epoch 270/300\n",
      "554/554 [==============================] - 0s 214us/step - loss: 0.5918 - acc: 0.7671 - val_loss: 0.6290 - val_acc: 0.7449\n",
      "Epoch 271/300\n",
      "554/554 [==============================] - 0s 240us/step - loss: 0.5875 - acc: 0.7762 - val_loss: 0.6269 - val_acc: 0.7755\n",
      "Epoch 272/300\n",
      "554/554 [==============================] - 0s 209us/step - loss: 0.5831 - acc: 0.7852 - val_loss: 0.6312 - val_acc: 0.7245\n",
      "Epoch 273/300\n",
      "554/554 [==============================] - 0s 217us/step - loss: 0.5889 - acc: 0.7816 - val_loss: 0.6255 - val_acc: 0.7959\n",
      "Epoch 274/300\n",
      "554/554 [==============================] - 0s 376us/step - loss: 0.5878 - acc: 0.7870 - val_loss: 0.6220 - val_acc: 0.7449\n",
      "Epoch 275/300\n",
      "554/554 [==============================] - 0s 360us/step - loss: 0.5841 - acc: 0.7978 - val_loss: 0.6521 - val_acc: 0.7245\n",
      "Epoch 276/300\n",
      "554/554 [==============================] - 0s 251us/step - loss: 0.5992 - acc: 0.7708 - val_loss: 0.6374 - val_acc: 0.7449\n",
      "Epoch 277/300\n",
      "554/554 [==============================] - 0s 224us/step - loss: 0.5894 - acc: 0.7708 - val_loss: 0.6241 - val_acc: 0.7755\n",
      "Epoch 278/300\n",
      "554/554 [==============================] - 0s 377us/step - loss: 0.5919 - acc: 0.7798 - val_loss: 0.6284 - val_acc: 0.7347\n",
      "Epoch 279/300\n",
      "554/554 [==============================] - 0s 236us/step - loss: 0.5900 - acc: 0.7942 - val_loss: 0.6398 - val_acc: 0.7347\n",
      "Epoch 280/300\n",
      "554/554 [==============================] - 0s 211us/step - loss: 0.5980 - acc: 0.7726 - val_loss: 0.6175 - val_acc: 0.7959\n",
      "Epoch 281/300\n",
      "554/554 [==============================] - 0s 352us/step - loss: 0.6070 - acc: 0.7545 - val_loss: 0.6218 - val_acc: 0.7755\n",
      "Epoch 282/300\n",
      "554/554 [==============================] - 0s 313us/step - loss: 0.5897 - acc: 0.7798 - val_loss: 0.6179 - val_acc: 0.7959\n",
      "Epoch 283/300\n",
      "554/554 [==============================] - 0s 225us/step - loss: 0.5865 - acc: 0.7852 - val_loss: 0.6238 - val_acc: 0.7551\n",
      "Epoch 284/300\n",
      "554/554 [==============================] - 0s 276us/step - loss: 0.5792 - acc: 0.7960 - val_loss: 0.6218 - val_acc: 0.7653\n",
      "Epoch 285/300\n",
      "554/554 [==============================] - 0s 315us/step - loss: 0.5840 - acc: 0.7816 - val_loss: 0.6435 - val_acc: 0.7143\n",
      "Epoch 286/300\n",
      "554/554 [==============================] - 0s 271us/step - loss: 0.5839 - acc: 0.7816 - val_loss: 0.6416 - val_acc: 0.7857\n",
      "Epoch 287/300\n",
      "554/554 [==============================] - 0s 271us/step - loss: 0.5912 - acc: 0.7726 - val_loss: 0.6188 - val_acc: 0.7755\n",
      "Epoch 288/300\n",
      "554/554 [==============================] - 0s 268us/step - loss: 0.5962 - acc: 0.7816 - val_loss: 0.6141 - val_acc: 0.7755\n",
      "Epoch 289/300\n",
      "554/554 [==============================] - 0s 229us/step - loss: 0.5837 - acc: 0.7762 - val_loss: 0.6166 - val_acc: 0.7653\n",
      "Epoch 290/300\n",
      "554/554 [==============================] - 0s 235us/step - loss: 0.5890 - acc: 0.7798 - val_loss: 0.6341 - val_acc: 0.7347\n",
      "Epoch 291/300\n",
      "554/554 [==============================] - 0s 299us/step - loss: 0.5895 - acc: 0.7762 - val_loss: 0.6469 - val_acc: 0.7245\n",
      "Epoch 292/300\n",
      "554/554 [==============================] - 0s 300us/step - loss: 0.5867 - acc: 0.7978 - val_loss: 0.6207 - val_acc: 0.7857\n",
      "Epoch 293/300\n",
      "554/554 [==============================] - 0s 234us/step - loss: 0.5872 - acc: 0.7888 - val_loss: 0.6326 - val_acc: 0.7653\n",
      "Epoch 294/300\n",
      "554/554 [==============================] - 0s 323us/step - loss: 0.5909 - acc: 0.7870 - val_loss: 0.6176 - val_acc: 0.7551\n",
      "Epoch 295/300\n",
      "554/554 [==============================] - 0s 277us/step - loss: 0.5815 - acc: 0.7708 - val_loss: 0.6206 - val_acc: 0.7755\n",
      "Epoch 296/300\n",
      "554/554 [==============================] - 0s 386us/step - loss: 0.5869 - acc: 0.7690 - val_loss: 0.6161 - val_acc: 0.7857\n",
      "Epoch 297/300\n",
      "554/554 [==============================] - 0s 299us/step - loss: 0.5883 - acc: 0.7816 - val_loss: 0.6235 - val_acc: 0.7347\n",
      "Epoch 298/300\n",
      "554/554 [==============================] - 0s 272us/step - loss: 0.5760 - acc: 0.7762 - val_loss: 0.6181 - val_acc: 0.7755\n",
      "Epoch 299/300\n",
      "554/554 [==============================] - 0s 244us/step - loss: 0.5820 - acc: 0.7852 - val_loss: 0.6124 - val_acc: 0.7755\n",
      "Epoch 300/300\n",
      "554/554 [==============================] - 0s 258us/step - loss: 0.5804 - acc: 0.7888 - val_loss: 0.6215 - val_acc: 0.7857\n"
     ]
    }
   ],
   "source": [
    "# Fit the model\n",
    "\n",
    "# Use 15% for Validation\n",
    "# Train for 300 epochs\n",
    "# User batch size = 10\n",
    "# Save the model fitting into the variable history\n",
    "# TODO\n",
    "history = model.fit(X_train, y_train, epochs=300, batch_size=10, validation_split=0.15)"
   ]
  },
  {
   "cell_type": "code",
   "execution_count": 264,
   "metadata": {},
   "outputs": [
    {
     "name": "stdout",
     "output_type": "stream",
     "text": [
      "dict_keys(['val_loss', 'val_acc', 'loss', 'acc'])\n"
     ]
    }
   ],
   "source": [
    "# list all data in history\n",
    "print(history.history.keys())"
   ]
  },
  {
   "cell_type": "code",
   "execution_count": 265,
   "metadata": {},
   "outputs": [
    {
     "data": {
      "image/png": "[encoded data removed]",
      "text/plain": [
       "<Figure size 432x288 with 1 Axes>"
      ]
     },
     "metadata": {
      "needs_background": "light"
     },
     "output_type": "display_data"
    }
   ],
   "source": [
    "# Plot the History of Training Loss (history.history['loss']) and the Validation Loss (history.history['val_loss'])\n",
    "# Title should be \"Model Loss\"\n",
    "# x label: \"Loss\"\n",
    "# y label: \"Epoch\"\n",
    "# Legend: \"Train\" and \"Validation\"\n",
    "# TODO\n",
    "plt.plot(history.history['loss'])\n",
    "plt.plot(history.history['val_loss'])\n",
    "plt.title('Model loss')\n",
    "plt.ylabel('Loss')\n",
    "plt.xlabel('Epoch')\n",
    "plt.legend(['Train', 'Validation'], loc='upper right')\n",
    "plt.show()"
   ]
  },
  {
   "cell_type": "code",
   "execution_count": 266,
   "metadata": {},
   "outputs": [
    {
     "data": {
      "image/png": "[encoded data removed]",
      "text/plain": [
       "<Figure size 432x288 with 1 Axes>"
      ]
     },
     "metadata": {
      "needs_background": "light"
     },
     "output_type": "display_data"
    }
   ],
   "source": [
    "# Plot the History of Training Accuracy (history.history['acc']) and \n",
    "# the Validation Accuracy (history.history['val_acc'])\n",
    "#\n",
    "# Title should be \"Model Accuracy\"\n",
    "# x label: \"Accuracy\"\n",
    "# y label: \"Epoch\"\n",
    "# Legend: \"Train\" and \"Validation\"\n",
    "# TODO\n",
    "plt.plot(history.history['acc'])\n",
    "plt.plot(history.history['val_acc'])\n",
    "plt.title('Model accuracy')\n",
    "plt.ylabel('Accuracy')\n",
    "plt.xlabel('Epoch')\n",
    "plt.legend(['Train', 'Validation'], loc='upper right')\n",
    "plt.show()"
   ]
  },
  {
   "cell_type": "code",
   "execution_count": 267,
   "metadata": {},
   "outputs": [],
   "source": [
    "# Evaluate the loss and accuracy on the test data\n",
    "loss, accuracy = model.evaluate(X_test, y_test, verbose=0)"
   ]
  },
  {
   "cell_type": "code",
   "execution_count": 268,
   "metadata": {},
   "outputs": [
    {
     "name": "stdout",
     "output_type": "stream",
     "text": [
      "Test score: 0.6466509247648304\n",
      "Test accuracy: 0.7758620669101847\n"
     ]
    }
   ],
   "source": [
    "print('Test score:', loss)\n",
    "print('Test accuracy:', accuracy)"
   ]
  }
 ],
 "metadata": {
  "kernelspec": {
   "display_name": "Python 3",
   "language": "python",
   "name": "python3"
  },
  "language_info": {
   "codemirror_mode": {
    "name": "ipython",
    "version": 3
   },
   "file_extension": ".py",
   "mimetype": "text/x-python",
   "name": "python",
   "nbconvert_exporter": "python",
   "pygments_lexer": "ipython3",
   "version": "3.7.1"
  },
  "varInspector": {
   "cols": {
    "lenName": 16,
    "lenType": 16,
    "lenVar": 40
   },
   "kernels_config": {
    "python": {
     "delete_cmd_postfix": "",
     "delete_cmd_prefix": "del ",
     "library": "var_list.py",
     "varRefreshCmd": "print(var_dic_list())"
    },
    "r": {
     "delete_cmd_postfix": ") ",
     "delete_cmd_prefix": "rm(",
     "library": "var_list.r",
     "varRefreshCmd": "cat(var_dic_list()) "
    }
   },
   "types_to_exclude": [
    "module",
    "function",
    "builtin_function_or_method",
    "instance",
    "_Feature"
   ],
   "window_display": false
  }
 },
 "nbformat": 4,
 "nbformat_minor": 2
}
