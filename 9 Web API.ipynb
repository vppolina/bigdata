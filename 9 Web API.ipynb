{
 "cells": [
  {
   "cell_type": "markdown",
   "metadata": {},
   "source": [
    "# Web APIs\n",
    "\n",
    "## 1. Consuming Web APIs\n",
    "\n",
    "(Partially adapted from https://www.dataquest.io/blog/python-api-tutorial/)\n",
    "\n",
    "* https://randomuser.me/ is a random user generator \n",
    "*\tIt has an API. Go to https://api.randomuser.me/ with your browser\n",
    "*\tYou get a JSON (JavaScript Object Notation) back. A JSON is similar to a Python dictionary.  \n",
    "*  Refresh the browser\n",
    "*\tYou can add query parameters. They are added to the URL with a ? . You then add then the parameter name = the value. More the one parameter are connected with a & e.g.\n",
    "\thttp://api.open-notify.org/iss-pass.json?lat=37.78&lon=-122.41\n",
    "\n",
    "*\t Go the documentation https://randomuser.me/documentation and check how you can get multiple users and to specify constraints on the output\n",
    "*\tGo to your browser and add parameters to https://api.randomuser.me/ so that you get 5 results of only males from the US\n",
    "\n",
    "Enter the URL of your solution:"
   ]
  },
  {
   "cell_type": "code",
   "execution_count": null,
   "metadata": {
    "collapsed": true
   },
   "outputs": [],
   "source": [
    "# TODO: get 5 results of only males from the US\n",
    "# Enter the URL of your solution:\n",
    "url = https://api.randomuser.me/?gender=male&nat=US&results=5"
   ]
  },
  {
   "cell_type": "markdown",
   "metadata": {},
   "source": [
    "* You can also get the data from the command line. Open the command line and write\n",
    "\n",
    "```bash\n",
    "curl -s https://api.randomuser.me/\n",
    "```\n",
    "\n",
    "You can also run Bash commands directly in your Jupyter Notebook with !:"
   ]
  },
  {
   "cell_type": "code",
   "execution_count": 12,
   "metadata": {},
   "outputs": [],
   "source": [
    "!curl -s https://api.randomuser.me/?gender=male&nat=US&results=5"
   ]
  },
  {
   "cell_type": "markdown",
   "metadata": {},
   "source": [
    "* Import the two libraries \n",
    "    * `requests` and \n",
    "    * `json`. \n",
    "\n",
    "You can find the documentation for the requests package here:\n",
    " http://www.python-requests.org/en/latest/ \n",
    " "
   ]
  },
  {
   "cell_type": "code",
   "execution_count": 5,
   "metadata": {},
   "outputs": [],
   "source": [
    "import requests\n",
    "import json"
   ]
  },
  {
   "cell_type": "markdown",
   "metadata": {},
   "source": [
    "* With the requests package you can call a Web API with the URL and the method get"
   ]
  },
  {
   "cell_type": "code",
   "execution_count": 13,
   "metadata": {},
   "outputs": [],
   "source": [
    "response = requests.get(\"https://api.randomuser.me/\")"
   ]
  },
  {
   "cell_type": "markdown",
   "metadata": {},
   "source": [
    "* Print the status code of the request"
   ]
  },
  {
   "cell_type": "code",
   "execution_count": 14,
   "metadata": {},
   "outputs": [
    {
     "name": "stdout",
     "output_type": "stream",
     "text": [
      "200\n"
     ]
    }
   ],
   "source": [
    "print(response.status_code)"
   ]
  },
  {
   "cell_type": "markdown",
   "metadata": {},
   "source": [
    "**The meaning of the status codes are:**\n",
    "* 200: everything went okay, and the result has been returned (if any)\n",
    "* 301: the server is redirecting you to a different endpoint. This can happen when a company switches domain names, or an endpoint name is changed.\n",
    "* 401: the server thinks you're not authenticated. This happens when you don't send the right credentials to access an API.\n",
    "* 400: the server thinks you made a bad request. This can happen when you don't send along the right data, among other things.\n",
    "* 403: the resource you're trying to access is forbidden – you don't have the right permissions to see it.\n",
    "* 404: the resource you tried to access wasn't found on the server.\n"
   ]
  },
  {
   "cell_type": "markdown",
   "metadata": {},
   "source": [
    "You can specify the query parameters for a URL with a Python dictionary like this:\n",
    "```python\n",
    "parameters = {\"lat\": 37.78, \"lon\": -122.41}\n",
    "```\n",
    "\n",
    "And pass the parameter to the request like this\n",
    "```python\n",
    "response = requests.get(\"http://api.open-notify.org/iss-pass.json\", params=parameters)\n",
    "```\n",
    "This is the same as \n",
    "```python\n",
    "response = requests.get(\"http://api.open-notify.org/iss-pass.json?lat=37.78&lon=-122.41\")\n",
    "```\n",
    "\n",
    "Alternatively you could build also the URL with the parameters by yourself with string concatenation. \n",
    "\n",
    "* Get with the request method 10 results of only males from the US.\n",
    "\n"
   ]
  },
  {
   "cell_type": "code",
   "execution_count": 59,
   "metadata": {},
   "outputs": [
    {
     "name": "stdout",
     "output_type": "stream",
     "text": [
      "b'{\"results\":[{\"gender\":\"male\",\"name\":{\"title\":\"mr\",\"first\":\"max\",\"last\":\"ward\"},\"location\":{\"street\":\"3651 groveland terrace\",\"city\":\"atlanta\",\"state\":\"louisiana\",\"postcode\":52496,\"coordinates\":{\"latitude\":\"-42.3919\",\"longitude\":\"69.8240\"},\"timezone\":{\"offset\":\"0:00\",\"description\":\"Western Europe Time, London, Lisbon, Casablanca\"}},\"email\":\"max.ward@example.com\",\"login\":{\"uuid\":\"e7550571-c1bc-4520-89a1-c8dc8235abad\",\"username\":\"purplemouse192\",\"password\":\"devildog\",\"salt\":\"fVeTVwib\",\"md5\":\"ca427d5f36e2b9ea55ff0188e871bb3b\",\"sha1\":\"18dae36d56f4a8adc49e84137f1562ae7ed18597\",\"sha256\":\"1df7a4b92362f97a664d8df7295aa413a26dc69a2374d45024066ba58c21069a\"},\"dob\":{\"date\":\"1985-06-21T00:53:05Z\",\"age\":33},\"registered\":{\"date\":\"2010-06-12T11:45:13Z\",\"age\":8},\"phone\":\"(751)-236-7680\",\"cell\":\"(212)-839-4422\",\"id\":{\"name\":\"SSN\",\"value\":\"314-52-3568\"},\"picture\":{\"large\":\"https://randomuser.me/api/portraits/men/86.jpg\",\"medium\":\"https://randomuser.me/api/portraits/med/men/86.jpg\",\"thumbnail\":\"https://randomuser.me/api/portraits/thumb/men/86.jpg\"},\"nat\":\"US\"},{\"gender\":\"male\",\"name\":{\"title\":\"mr\",\"first\":\"david\",\"last\":\"green\"},\"location\":{\"street\":\"2661 pecan acres ln\",\"city\":\"chesapeake\",\"state\":\"ohio\",\"postcode\":35893,\"coordinates\":{\"latitude\":\"-78.3979\",\"longitude\":\"-103.4396\"},\"timezone\":{\"offset\":\"-5:00\",\"description\":\"Eastern Time (US & Canada), Bogota, Lima\"}},\"email\":\"david.green@example.com\",\"login\":{\"uuid\":\"23e5f764-3636-4945-89db-354492b4377d\",\"username\":\"greenfrog263\",\"password\":\"shelley\",\"salt\":\"pCD2Pw1U\",\"md5\":\"e62737909d22a449f4ba887dd74d3bcc\",\"sha1\":\"6cb5bc3bd24e3388af0937c58850de9ca5a0246f\",\"sha256\":\"468b397bf4fec2bad094c9a1eb102be698475dfc8b3d25be8316a0dd589b0ad8\"},\"dob\":{\"date\":\"1991-11-19T16:33:45Z\",\"age\":27},\"registered\":{\"date\":\"2015-05-30T04:38:24Z\",\"age\":3},\"phone\":\"(656)-380-0023\",\"cell\":\"(436)-875-1729\",\"id\":{\"name\":\"SSN\",\"value\":\"198-05-3433\"},\"picture\":{\"large\":\"https://randomuser.me/api/portraits/men/54.jpg\",\"medium\":\"https://randomuser.me/api/portraits/med/men/54.jpg\",\"thumbnail\":\"https://randomuser.me/api/portraits/thumb/men/54.jpg\"},\"nat\":\"US\"},{\"gender\":\"male\",\"name\":{\"title\":\"mr\",\"first\":\"kent\",\"last\":\"anderson\"},\"location\":{\"street\":\"5169 w sherman dr\",\"city\":\"west valley city\",\"state\":\"nebraska\",\"postcode\":91514,\"coordinates\":{\"latitude\":\"31.3770\",\"longitude\":\"-51.7493\"},\"timezone\":{\"offset\":\"-7:00\",\"description\":\"Mountain Time (US & Canada)\"}},\"email\":\"kent.anderson@example.com\",\"login\":{\"uuid\":\"dcc552ec-8a9a-44d0-9045-749db82c3e2f\",\"username\":\"angrybird151\",\"password\":\"verona\",\"salt\":\"mpBgZMRJ\",\"md5\":\"530767ac555f974de19b112c233641dc\",\"sha1\":\"139e1b61582826368b5c408883110397c24df52a\",\"sha256\":\"e3d60da8ba69894fc08398a8cef393eb5901be6393ad8781adb18b185580c214\"},\"dob\":{\"date\":\"1953-07-28T06:33:25Z\",\"age\":65},\"registered\":{\"date\":\"2008-05-07T00:53:53Z\",\"age\":10},\"phone\":\"(176)-760-9324\",\"cell\":\"(145)-759-5658\",\"id\":{\"name\":\"SSN\",\"value\":\"696-14-6716\"},\"picture\":{\"large\":\"https://randomuser.me/api/portraits/men/17.jpg\",\"medium\":\"https://randomuser.me/api/portraits/med/men/17.jpg\",\"thumbnail\":\"https://randomuser.me/api/portraits/thumb/men/17.jpg\"},\"nat\":\"US\"},{\"gender\":\"male\",\"name\":{\"title\":\"mr\",\"first\":\"ryan\",\"last\":\"sanders\"},\"location\":{\"street\":\"9094 parker rd\",\"city\":\"roseville\",\"state\":\"alabama\",\"postcode\":51703,\"coordinates\":{\"latitude\":\"62.6684\",\"longitude\":\"-162.6582\"},\"timezone\":{\"offset\":\"+1:00\",\"description\":\"Brussels, Copenhagen, Madrid, Paris\"}},\"email\":\"ryan.sanders@example.com\",\"login\":{\"uuid\":\"84666590-38ef-48e3-871d-9b9f0002623c\",\"username\":\"yellowdog199\",\"password\":\"xiang\",\"salt\":\"6zjZp6LY\",\"md5\":\"8fe0b5ef0e276bec7703459c1fc1a4d2\",\"sha1\":\"72b0d08e22ba32111954ec9ab4f7cbacac930c7e\",\"sha256\":\"8d56889787fe51d9309767a21c050ed3eb79f3b1ac97094aec80ffa9e77a9650\"},\"dob\":{\"date\":\"1980-11-15T14:22:56Z\",\"age\":38},\"registered\":{\"date\":\"2012-04-03T22:06:41Z\",\"age\":7},\"phone\":\"(911)-043-6956\",\"cell\":\"(695)-940-5861\",\"id\":{\"name\":\"SSN\",\"value\":\"129-40-1045\"},\"picture\":{\"large\":\"https://randomuser.me/api/portraits/men/24.jpg\",\"medium\":\"https://randomuser.me/api/portraits/med/men/24.jpg\",\"thumbnail\":\"https://randomuser.me/api/portraits/thumb/men/24.jpg\"},\"nat\":\"US\"},{\"gender\":\"male\",\"name\":{\"title\":\"mr\",\"first\":\"fred\",\"last\":\"gilbert\"},\"location\":{\"street\":\"5680 homestead rd\",\"city\":\"killeen\",\"state\":\"georgia\",\"postcode\":12839,\"coordinates\":{\"latitude\":\"31.3736\",\"longitude\":\"98.1387\"},\"timezone\":{\"offset\":\"+5:00\",\"description\":\"Ekaterinburg, Islamabad, Karachi, Tashkent\"}},\"email\":\"fred.gilbert@example.com\",\"login\":{\"uuid\":\"b0f63726-9c8f-48a8-9afa-37ab39bdd7e9\",\"username\":\"orangeostrich386\",\"password\":\"banane\",\"salt\":\"s2qWoAM9\",\"md5\":\"eeb09b2a0a036378a74b0062a1ebdf03\",\"sha1\":\"2b3bf1b432991910323d6b0e477dba7af4aa7dc0\",\"sha256\":\"9b7cbb9450c8dcc699f18ed01b447ccf07143d2a1155403bd6d606e8158e2082\"},\"dob\":{\"date\":\"1981-11-30T03:54:49Z\",\"age\":37},\"registered\":{\"date\":\"2010-04-12T17:47:33Z\",\"age\":9},\"phone\":\"(535)-715-3183\",\"cell\":\"(024)-469-1870\",\"id\":{\"name\":\"SSN\",\"value\":\"197-74-7701\"},\"picture\":{\"large\":\"https://randomuser.me/api/portraits/men/84.jpg\",\"medium\":\"https://randomuser.me/api/portraits/med/men/84.jpg\",\"thumbnail\":\"https://randomuser.me/api/portraits/thumb/men/84.jpg\"},\"nat\":\"US\"},{\"gender\":\"male\",\"name\":{\"title\":\"mr\",\"first\":\"claude\",\"last\":\"simpson\"},\"location\":{\"street\":\"8673 harrison ct\",\"city\":\"henderson\",\"state\":\"ohio\",\"postcode\":71932,\"coordinates\":{\"latitude\":\"46.5194\",\"longitude\":\"-175.0489\"},\"timezone\":{\"offset\":\"+7:00\",\"description\":\"Bangkok, Hanoi, Jakarta\"}},\"email\":\"claude.simpson@example.com\",\"login\":{\"uuid\":\"7e62d3e9-dff2-41a9-bf22-0649f8bbf8e7\",\"username\":\"purplesnake327\",\"password\":\"seth\",\"salt\":\"Agdj1niZ\",\"md5\":\"217584d55d8487770eb1f9ae99773f84\",\"sha1\":\"6447fa30f016d7d440d594d14cf842fb6549b293\",\"sha256\":\"83f58d5aa0324b3cb416458d6927e892ae694ce6372a3c6ff3a886aa4edab1c2\"},\"dob\":{\"date\":\"1960-06-20T11:40:38Z\",\"age\":58},\"registered\":{\"date\":\"2012-04-11T23:04:30Z\",\"age\":7},\"phone\":\"(714)-794-3652\",\"cell\":\"(263)-154-9668\",\"id\":{\"name\":\"SSN\",\"value\":\"258-50-1718\"},\"picture\":{\"large\":\"https://randomuser.me/api/portraits/men/50.jpg\",\"medium\":\"https://randomuser.me/api/portraits/med/men/50.jpg\",\"thumbnail\":\"https://randomuser.me/api/portraits/thumb/men/50.jpg\"},\"nat\":\"US\"},{\"gender\":\"male\",\"name\":{\"title\":\"mr\",\"first\":\"andy\",\"last\":\"cook\"},\"location\":{\"street\":\"7964 brown terrace\",\"city\":\"knoxville\",\"state\":\"north carolina\",\"postcode\":71215,\"coordinates\":{\"latitude\":\"-76.0859\",\"longitude\":\"11.6427\"},\"timezone\":{\"offset\":\"+9:30\",\"description\":\"Adelaide, Darwin\"}},\"email\":\"andy.cook@example.com\",\"login\":{\"uuid\":\"da224f70-1068-4c54-a967-204d4c369f18\",\"username\":\"heavyfish658\",\"password\":\"eddie\",\"salt\":\"zbf2FyX7\",\"md5\":\"11544de3733ec74eecd2fbe19812ff0a\",\"sha1\":\"b38af69c22a108176224278754967d7c54382e19\",\"sha256\":\"1fa4198fb01756a5b4a663f121a8d2c5197ee6c59d05353955a38cac715d2206\"},\"dob\":{\"date\":\"1983-10-30T15:45:17Z\",\"age\":35},\"registered\":{\"date\":\"2006-07-26T02:26:22Z\",\"age\":12},\"phone\":\"(196)-747-5559\",\"cell\":\"(929)-782-3771\",\"id\":{\"name\":\"SSN\",\"value\":\"837-64-0406\"},\"picture\":{\"large\":\"https://randomuser.me/api/portraits/men/10.jpg\",\"medium\":\"https://randomuser.me/api/portraits/med/men/10.jpg\",\"thumbnail\":\"https://randomuser.me/api/portraits/thumb/men/10.jpg\"},\"nat\":\"US\"},{\"gender\":\"male\",\"name\":{\"title\":\"mr\",\"first\":\"johnni\",\"last\":\"powell\"},\"location\":{\"street\":\"5010 miller ave\",\"city\":\"fontana\",\"state\":\"california\",\"postcode\":88605,\"coordinates\":{\"latitude\":\"29.6246\",\"longitude\":\"-65.4291\"},\"timezone\":{\"offset\":\"-3:00\",\"description\":\"Brazil, Buenos Aires, Georgetown\"}},\"email\":\"johnni.powell@example.com\",\"login\":{\"uuid\":\"b7d859c2-851e-4604-a7ae-3cc02fcc7bc0\",\"username\":\"whitegorilla609\",\"password\":\"peanut\",\"salt\":\"B4Wd4Gmt\",\"md5\":\"4e26d75623828b0a6c4b0a72496a12ad\",\"sha1\":\"def4e48dd45550ee3aa222791bf8be914e39528a\",\"sha256\":\"a278db3c453f0d4a0bc5ff85bf14e1e1fa536aac70ec3392eea9a0ceed12c3d1\"},\"dob\":{\"date\":\"1975-03-07T06:02:11Z\",\"age\":44},\"registered\":{\"date\":\"2006-01-23T08:58:10Z\",\"age\":13},\"phone\":\"(337)-764-1661\",\"cell\":\"(266)-564-7915\",\"id\":{\"name\":\"SSN\",\"value\":\"186-41-3742\"},\"picture\":{\"large\":\"https://randomuser.me/api/portraits/men/8.jpg\",\"medium\":\"https://randomuser.me/api/portraits/med/men/8.jpg\",\"thumbnail\":\"https://randomuser.me/api/portraits/thumb/men/8.jpg\"},\"nat\":\"US\"},{\"gender\":\"male\",\"name\":{\"title\":\"mr\",\"first\":\"claude\",\"last\":\"black\"},\"location\":{\"street\":\"684 shady ln dr\",\"city\":\"newport news\",\"state\":\"iowa\",\"postcode\":52544,\"coordinates\":{\"latitude\":\"-68.7409\",\"longitude\":\"53.2853\"},\"timezone\":{\"offset\":\"-11:00\",\"description\":\"Midway Island, Samoa\"}},\"email\":\"claude.black@example.com\",\"login\":{\"uuid\":\"2dcd56ab-6102-4d32-9cac-4498c26bf75b\",\"username\":\"angryfish603\",\"password\":\"qwe123\",\"salt\":\"lU45S241\",\"md5\":\"4f773dc5f0f42ff6a2056597042d78e3\",\"sha1\":\"cb645a181a9e3c7cd8c681dc0fcaa1c965fb6537\",\"sha256\":\"7389a9112c059d4e6a05993dce9daa050d4c9f3bd20e343678f755c9ea4402f8\"},\"dob\":{\"date\":\"1945-02-22T20:14:05Z\",\"age\":74},\"registered\":{\"date\":\"2009-08-31T09:06:45Z\",\"age\":9},\"phone\":\"(332)-782-3490\",\"cell\":\"(828)-611-9470\",\"id\":{\"name\":\"SSN\",\"value\":\"571-99-7548\"},\"picture\":{\"large\":\"https://randomuser.me/api/portraits/men/12.jpg\",\"medium\":\"https://randomuser.me/api/portraits/med/men/12.jpg\",\"thumbnail\":\"https://randomuser.me/api/portraits/thumb/men/12.jpg\"},\"nat\":\"US\"},{\"gender\":\"male\",\"name\":{\"title\":\"mr\",\"first\":\"jorge\",\"last\":\"bailey\"},\"location\":{\"street\":\"4118 plum st\",\"city\":\"torrance\",\"state\":\"nebraska\",\"postcode\":82744,\"coordinates\":{\"latitude\":\"9.3891\",\"longitude\":\"-94.8347\"},\"timezone\":{\"offset\":\"+2:00\",\"description\":\"Kaliningrad, South Africa\"}},\"email\":\"jorge.bailey@example.com\",\"login\":{\"uuid\":\"395387fa-9d38-4e80-9b2c-b02ec07aa601\",\"username\":\"yellowfish808\",\"password\":\"mang\",\"salt\":\"Sww68oBg\",\"md5\":\"13a0be231b9b131576ca5912c0ae0f3a\",\"sha1\":\"79be601c1223062dfd67274587a5a12302bd5e13\",\"sha256\":\"2f45286039bf0eb0c3643fbd0e5ede1641a1cd443b80e4d022590c89821c655d\"},\"dob\":{\"date\":\"1983-04-19T17:56:33Z\",\"age\":36},\"registered\":{\"date\":\"2016-10-30T04:40:25Z\",\"age\":2},\"phone\":\"(208)-262-1385\",\"cell\":\"(135)-886-0906\",\"id\":{\"name\":\"SSN\",\"value\":\"636-04-1111\"},\"picture\":{\"large\":\"https://randomuser.me/api/portraits/men/52.jpg\",\"medium\":\"https://randomuser.me/api/portraits/med/men/52.jpg\",\"thumbnail\":\"https://randomuser.me/api/portraits/thumb/men/52.jpg\"},\"nat\":\"US\"}],\"info\":{\"seed\":\"01472b40b62d6ef3\",\"results\":10,\"page\":1,\"version\":\"1.2\"}}'\n"
     ]
    }
   ],
   "source": [
    "parameters = {\"gender\": \"male\", \"nat\": \"US\", \"results\":10}\n",
    "response = requests.get(\"https://api.randomuser.me/\", params=parameters)\n",
    "print(response.content)"
   ]
  },
  {
   "cell_type": "markdown",
   "metadata": {},
   "source": [
    "* You can show the result of the request with the method text"
   ]
  },
  {
   "cell_type": "code",
   "execution_count": 60,
   "metadata": {
    "scrolled": true
   },
   "outputs": [
    {
     "data": {
      "text/plain": [
       "'{\"results\":[{\"gender\":\"male\",\"name\":{\"title\":\"mr\",\"first\":\"max\",\"last\":\"ward\"},\"location\":{\"street\":\"3651 groveland terrace\",\"city\":\"atlanta\",\"state\":\"louisiana\",\"postcode\":52496,\"coordinates\":{\"latitude\":\"-42.3919\",\"longitude\":\"69.8240\"},\"timezone\":{\"offset\":\"0:00\",\"description\":\"Western Europe Time, London, Lisbon, Casablanca\"}},\"email\":\"max.ward@example.com\",\"login\":{\"uuid\":\"e7550571-c1bc-4520-89a1-c8dc8235abad\",\"username\":\"purplemouse192\",\"password\":\"devildog\",\"salt\":\"fVeTVwib\",\"md5\":\"ca427d5f36e2b9ea55ff0188e871bb3b\",\"sha1\":\"18dae36d56f4a8adc49e84137f1562ae7ed18597\",\"sha256\":\"1df7a4b92362f97a664d8df7295aa413a26dc69a2374d45024066ba58c21069a\"},\"dob\":{\"date\":\"1985-06-21T00:53:05Z\",\"age\":33},\"registered\":{\"date\":\"2010-06-12T11:45:13Z\",\"age\":8},\"phone\":\"(751)-236-7680\",\"cell\":\"(212)-839-4422\",\"id\":{\"name\":\"SSN\",\"value\":\"314-52-3568\"},\"picture\":{\"large\":\"https://randomuser.me/api/portraits/men/86.jpg\",\"medium\":\"https://randomuser.me/api/portraits/med/men/86.jpg\",\"thumbnail\":\"https://randomuser.me/api/portraits/thumb/men/86.jpg\"},\"nat\":\"US\"},{\"gender\":\"male\",\"name\":{\"title\":\"mr\",\"first\":\"david\",\"last\":\"green\"},\"location\":{\"street\":\"2661 pecan acres ln\",\"city\":\"chesapeake\",\"state\":\"ohio\",\"postcode\":35893,\"coordinates\":{\"latitude\":\"-78.3979\",\"longitude\":\"-103.4396\"},\"timezone\":{\"offset\":\"-5:00\",\"description\":\"Eastern Time (US & Canada), Bogota, Lima\"}},\"email\":\"david.green@example.com\",\"login\":{\"uuid\":\"23e5f764-3636-4945-89db-354492b4377d\",\"username\":\"greenfrog263\",\"password\":\"shelley\",\"salt\":\"pCD2Pw1U\",\"md5\":\"e62737909d22a449f4ba887dd74d3bcc\",\"sha1\":\"6cb5bc3bd24e3388af0937c58850de9ca5a0246f\",\"sha256\":\"468b397bf4fec2bad094c9a1eb102be698475dfc8b3d25be8316a0dd589b0ad8\"},\"dob\":{\"date\":\"1991-11-19T16:33:45Z\",\"age\":27},\"registered\":{\"date\":\"2015-05-30T04:38:24Z\",\"age\":3},\"phone\":\"(656)-380-0023\",\"cell\":\"(436)-875-1729\",\"id\":{\"name\":\"SSN\",\"value\":\"198-05-3433\"},\"picture\":{\"large\":\"https://randomuser.me/api/portraits/men/54.jpg\",\"medium\":\"https://randomuser.me/api/portraits/med/men/54.jpg\",\"thumbnail\":\"https://randomuser.me/api/portraits/thumb/men/54.jpg\"},\"nat\":\"US\"},{\"gender\":\"male\",\"name\":{\"title\":\"mr\",\"first\":\"kent\",\"last\":\"anderson\"},\"location\":{\"street\":\"5169 w sherman dr\",\"city\":\"west valley city\",\"state\":\"nebraska\",\"postcode\":91514,\"coordinates\":{\"latitude\":\"31.3770\",\"longitude\":\"-51.7493\"},\"timezone\":{\"offset\":\"-7:00\",\"description\":\"Mountain Time (US & Canada)\"}},\"email\":\"kent.anderson@example.com\",\"login\":{\"uuid\":\"dcc552ec-8a9a-44d0-9045-749db82c3e2f\",\"username\":\"angrybird151\",\"password\":\"verona\",\"salt\":\"mpBgZMRJ\",\"md5\":\"530767ac555f974de19b112c233641dc\",\"sha1\":\"139e1b61582826368b5c408883110397c24df52a\",\"sha256\":\"e3d60da8ba69894fc08398a8cef393eb5901be6393ad8781adb18b185580c214\"},\"dob\":{\"date\":\"1953-07-28T06:33:25Z\",\"age\":65},\"registered\":{\"date\":\"2008-05-07T00:53:53Z\",\"age\":10},\"phone\":\"(176)-760-9324\",\"cell\":\"(145)-759-5658\",\"id\":{\"name\":\"SSN\",\"value\":\"696-14-6716\"},\"picture\":{\"large\":\"https://randomuser.me/api/portraits/men/17.jpg\",\"medium\":\"https://randomuser.me/api/portraits/med/men/17.jpg\",\"thumbnail\":\"https://randomuser.me/api/portraits/thumb/men/17.jpg\"},\"nat\":\"US\"},{\"gender\":\"male\",\"name\":{\"title\":\"mr\",\"first\":\"ryan\",\"last\":\"sanders\"},\"location\":{\"street\":\"9094 parker rd\",\"city\":\"roseville\",\"state\":\"alabama\",\"postcode\":51703,\"coordinates\":{\"latitude\":\"62.6684\",\"longitude\":\"-162.6582\"},\"timezone\":{\"offset\":\"+1:00\",\"description\":\"Brussels, Copenhagen, Madrid, Paris\"}},\"email\":\"ryan.sanders@example.com\",\"login\":{\"uuid\":\"84666590-38ef-48e3-871d-9b9f0002623c\",\"username\":\"yellowdog199\",\"password\":\"xiang\",\"salt\":\"6zjZp6LY\",\"md5\":\"8fe0b5ef0e276bec7703459c1fc1a4d2\",\"sha1\":\"72b0d08e22ba32111954ec9ab4f7cbacac930c7e\",\"sha256\":\"8d56889787fe51d9309767a21c050ed3eb79f3b1ac97094aec80ffa9e77a9650\"},\"dob\":{\"date\":\"1980-11-15T14:22:56Z\",\"age\":38},\"registered\":{\"date\":\"2012-04-03T22:06:41Z\",\"age\":7},\"phone\":\"(911)-043-6956\",\"cell\":\"(695)-940-5861\",\"id\":{\"name\":\"SSN\",\"value\":\"129-40-1045\"},\"picture\":{\"large\":\"https://randomuser.me/api/portraits/men/24.jpg\",\"medium\":\"https://randomuser.me/api/portraits/med/men/24.jpg\",\"thumbnail\":\"https://randomuser.me/api/portraits/thumb/men/24.jpg\"},\"nat\":\"US\"},{\"gender\":\"male\",\"name\":{\"title\":\"mr\",\"first\":\"fred\",\"last\":\"gilbert\"},\"location\":{\"street\":\"5680 homestead rd\",\"city\":\"killeen\",\"state\":\"georgia\",\"postcode\":12839,\"coordinates\":{\"latitude\":\"31.3736\",\"longitude\":\"98.1387\"},\"timezone\":{\"offset\":\"+5:00\",\"description\":\"Ekaterinburg, Islamabad, Karachi, Tashkent\"}},\"email\":\"fred.gilbert@example.com\",\"login\":{\"uuid\":\"b0f63726-9c8f-48a8-9afa-37ab39bdd7e9\",\"username\":\"orangeostrich386\",\"password\":\"banane\",\"salt\":\"s2qWoAM9\",\"md5\":\"eeb09b2a0a036378a74b0062a1ebdf03\",\"sha1\":\"2b3bf1b432991910323d6b0e477dba7af4aa7dc0\",\"sha256\":\"9b7cbb9450c8dcc699f18ed01b447ccf07143d2a1155403bd6d606e8158e2082\"},\"dob\":{\"date\":\"1981-11-30T03:54:49Z\",\"age\":37},\"registered\":{\"date\":\"2010-04-12T17:47:33Z\",\"age\":9},\"phone\":\"(535)-715-3183\",\"cell\":\"(024)-469-1870\",\"id\":{\"name\":\"SSN\",\"value\":\"197-74-7701\"},\"picture\":{\"large\":\"https://randomuser.me/api/portraits/men/84.jpg\",\"medium\":\"https://randomuser.me/api/portraits/med/men/84.jpg\",\"thumbnail\":\"https://randomuser.me/api/portraits/thumb/men/84.jpg\"},\"nat\":\"US\"},{\"gender\":\"male\",\"name\":{\"title\":\"mr\",\"first\":\"claude\",\"last\":\"simpson\"},\"location\":{\"street\":\"8673 harrison ct\",\"city\":\"henderson\",\"state\":\"ohio\",\"postcode\":71932,\"coordinates\":{\"latitude\":\"46.5194\",\"longitude\":\"-175.0489\"},\"timezone\":{\"offset\":\"+7:00\",\"description\":\"Bangkok, Hanoi, Jakarta\"}},\"email\":\"claude.simpson@example.com\",\"login\":{\"uuid\":\"7e62d3e9-dff2-41a9-bf22-0649f8bbf8e7\",\"username\":\"purplesnake327\",\"password\":\"seth\",\"salt\":\"Agdj1niZ\",\"md5\":\"217584d55d8487770eb1f9ae99773f84\",\"sha1\":\"6447fa30f016d7d440d594d14cf842fb6549b293\",\"sha256\":\"83f58d5aa0324b3cb416458d6927e892ae694ce6372a3c6ff3a886aa4edab1c2\"},\"dob\":{\"date\":\"1960-06-20T11:40:38Z\",\"age\":58},\"registered\":{\"date\":\"2012-04-11T23:04:30Z\",\"age\":7},\"phone\":\"(714)-794-3652\",\"cell\":\"(263)-154-9668\",\"id\":{\"name\":\"SSN\",\"value\":\"258-50-1718\"},\"picture\":{\"large\":\"https://randomuser.me/api/portraits/men/50.jpg\",\"medium\":\"https://randomuser.me/api/portraits/med/men/50.jpg\",\"thumbnail\":\"https://randomuser.me/api/portraits/thumb/men/50.jpg\"},\"nat\":\"US\"},{\"gender\":\"male\",\"name\":{\"title\":\"mr\",\"first\":\"andy\",\"last\":\"cook\"},\"location\":{\"street\":\"7964 brown terrace\",\"city\":\"knoxville\",\"state\":\"north carolina\",\"postcode\":71215,\"coordinates\":{\"latitude\":\"-76.0859\",\"longitude\":\"11.6427\"},\"timezone\":{\"offset\":\"+9:30\",\"description\":\"Adelaide, Darwin\"}},\"email\":\"andy.cook@example.com\",\"login\":{\"uuid\":\"da224f70-1068-4c54-a967-204d4c369f18\",\"username\":\"heavyfish658\",\"password\":\"eddie\",\"salt\":\"zbf2FyX7\",\"md5\":\"11544de3733ec74eecd2fbe19812ff0a\",\"sha1\":\"b38af69c22a108176224278754967d7c54382e19\",\"sha256\":\"1fa4198fb01756a5b4a663f121a8d2c5197ee6c59d05353955a38cac715d2206\"},\"dob\":{\"date\":\"1983-10-30T15:45:17Z\",\"age\":35},\"registered\":{\"date\":\"2006-07-26T02:26:22Z\",\"age\":12},\"phone\":\"(196)-747-5559\",\"cell\":\"(929)-782-3771\",\"id\":{\"name\":\"SSN\",\"value\":\"837-64-0406\"},\"picture\":{\"large\":\"https://randomuser.me/api/portraits/men/10.jpg\",\"medium\":\"https://randomuser.me/api/portraits/med/men/10.jpg\",\"thumbnail\":\"https://randomuser.me/api/portraits/thumb/men/10.jpg\"},\"nat\":\"US\"},{\"gender\":\"male\",\"name\":{\"title\":\"mr\",\"first\":\"johnni\",\"last\":\"powell\"},\"location\":{\"street\":\"5010 miller ave\",\"city\":\"fontana\",\"state\":\"california\",\"postcode\":88605,\"coordinates\":{\"latitude\":\"29.6246\",\"longitude\":\"-65.4291\"},\"timezone\":{\"offset\":\"-3:00\",\"description\":\"Brazil, Buenos Aires, Georgetown\"}},\"email\":\"johnni.powell@example.com\",\"login\":{\"uuid\":\"b7d859c2-851e-4604-a7ae-3cc02fcc7bc0\",\"username\":\"whitegorilla609\",\"password\":\"peanut\",\"salt\":\"B4Wd4Gmt\",\"md5\":\"4e26d75623828b0a6c4b0a72496a12ad\",\"sha1\":\"def4e48dd45550ee3aa222791bf8be914e39528a\",\"sha256\":\"a278db3c453f0d4a0bc5ff85bf14e1e1fa536aac70ec3392eea9a0ceed12c3d1\"},\"dob\":{\"date\":\"1975-03-07T06:02:11Z\",\"age\":44},\"registered\":{\"date\":\"2006-01-23T08:58:10Z\",\"age\":13},\"phone\":\"(337)-764-1661\",\"cell\":\"(266)-564-7915\",\"id\":{\"name\":\"SSN\",\"value\":\"186-41-3742\"},\"picture\":{\"large\":\"https://randomuser.me/api/portraits/men/8.jpg\",\"medium\":\"https://randomuser.me/api/portraits/med/men/8.jpg\",\"thumbnail\":\"https://randomuser.me/api/portraits/thumb/men/8.jpg\"},\"nat\":\"US\"},{\"gender\":\"male\",\"name\":{\"title\":\"mr\",\"first\":\"claude\",\"last\":\"black\"},\"location\":{\"street\":\"684 shady ln dr\",\"city\":\"newport news\",\"state\":\"iowa\",\"postcode\":52544,\"coordinates\":{\"latitude\":\"-68.7409\",\"longitude\":\"53.2853\"},\"timezone\":{\"offset\":\"-11:00\",\"description\":\"Midway Island, Samoa\"}},\"email\":\"claude.black@example.com\",\"login\":{\"uuid\":\"2dcd56ab-6102-4d32-9cac-4498c26bf75b\",\"username\":\"angryfish603\",\"password\":\"qwe123\",\"salt\":\"lU45S241\",\"md5\":\"4f773dc5f0f42ff6a2056597042d78e3\",\"sha1\":\"cb645a181a9e3c7cd8c681dc0fcaa1c965fb6537\",\"sha256\":\"7389a9112c059d4e6a05993dce9daa050d4c9f3bd20e343678f755c9ea4402f8\"},\"dob\":{\"date\":\"1945-02-22T20:14:05Z\",\"age\":74},\"registered\":{\"date\":\"2009-08-31T09:06:45Z\",\"age\":9},\"phone\":\"(332)-782-3490\",\"cell\":\"(828)-611-9470\",\"id\":{\"name\":\"SSN\",\"value\":\"571-99-7548\"},\"picture\":{\"large\":\"https://randomuser.me/api/portraits/men/12.jpg\",\"medium\":\"https://randomuser.me/api/portraits/med/men/12.jpg\",\"thumbnail\":\"https://randomuser.me/api/portraits/thumb/men/12.jpg\"},\"nat\":\"US\"},{\"gender\":\"male\",\"name\":{\"title\":\"mr\",\"first\":\"jorge\",\"last\":\"bailey\"},\"location\":{\"street\":\"4118 plum st\",\"city\":\"torrance\",\"state\":\"nebraska\",\"postcode\":82744,\"coordinates\":{\"latitude\":\"9.3891\",\"longitude\":\"-94.8347\"},\"timezone\":{\"offset\":\"+2:00\",\"description\":\"Kaliningrad, South Africa\"}},\"email\":\"jorge.bailey@example.com\",\"login\":{\"uuid\":\"395387fa-9d38-4e80-9b2c-b02ec07aa601\",\"username\":\"yellowfish808\",\"password\":\"mang\",\"salt\":\"Sww68oBg\",\"md5\":\"13a0be231b9b131576ca5912c0ae0f3a\",\"sha1\":\"79be601c1223062dfd67274587a5a12302bd5e13\",\"sha256\":\"2f45286039bf0eb0c3643fbd0e5ede1641a1cd443b80e4d022590c89821c655d\"},\"dob\":{\"date\":\"1983-04-19T17:56:33Z\",\"age\":36},\"registered\":{\"date\":\"2016-10-30T04:40:25Z\",\"age\":2},\"phone\":\"(208)-262-1385\",\"cell\":\"(135)-886-0906\",\"id\":{\"name\":\"SSN\",\"value\":\"636-04-1111\"},\"picture\":{\"large\":\"https://randomuser.me/api/portraits/men/52.jpg\",\"medium\":\"https://randomuser.me/api/portraits/med/men/52.jpg\",\"thumbnail\":\"https://randomuser.me/api/portraits/thumb/men/52.jpg\"},\"nat\":\"US\"}],\"info\":{\"seed\":\"01472b40b62d6ef3\",\"results\":10,\"page\":1,\"version\":\"1.2\"}}'"
      ]
     },
     "execution_count": 60,
     "metadata": {},
     "output_type": "execute_result"
    }
   ],
   "source": [
    "response.text"
   ]
  },
  {
   "cell_type": "markdown",
   "metadata": {},
   "source": [
    "* You can convert the data from JSON to a Python dictionary with the package JSON"
   ]
  },
  {
   "cell_type": "code",
   "execution_count": 61,
   "metadata": {},
   "outputs": [],
   "source": [
    "data = json.loads(response.text)"
   ]
  },
  {
   "cell_type": "markdown",
   "metadata": {},
   "source": [
    "* Check the type of variable data"
   ]
  },
  {
   "cell_type": "code",
   "execution_count": 62,
   "metadata": {},
   "outputs": [
    {
     "name": "stdout",
     "output_type": "stream",
     "text": [
      "<class 'dict'>\n"
     ]
    }
   ],
   "source": [
    "print(type(data))"
   ]
  },
  {
   "cell_type": "markdown",
   "metadata": {},
   "source": [
    "* *pretty-print* (pprint) prints complex data structures like dictionary prettier.  https://docs.python.org/3/library/pprint.html "
   ]
  },
  {
   "cell_type": "code",
   "execution_count": 63,
   "metadata": {},
   "outputs": [
    {
     "name": "stdout",
     "output_type": "stream",
     "text": [
      "{'info': {'page': 1,\n",
      "          'results': 10,\n",
      "          'seed': '01472b40b62d6ef3',\n",
      "          'version': '1.2'},\n",
      " 'results': [{'cell': '(212)-839-4422',\n",
      "              'dob': {'age': 33, 'date': '1985-06-21T00:53:05Z'},\n",
      "              'email': 'max.ward@example.com',\n",
      "              'gender': 'male',\n",
      "              'id': {'name': 'SSN', 'value': '314-52-3568'},\n",
      "              'location': {'city': 'atlanta',\n",
      "                           'coordinates': {'latitude': '-42.3919',\n",
      "                                           'longitude': '69.8240'},\n",
      "                           'postcode': 52496,\n",
      "                           'state': 'louisiana',\n",
      "                           'street': '3651 groveland terrace',\n",
      "                           'timezone': {'description': 'Western Europe Time, '\n",
      "                                                       'London, Lisbon, '\n",
      "                                                       'Casablanca',\n",
      "                                        'offset': '0:00'}},\n",
      "              'login': {'md5': 'ca427d5f36e2b9ea55ff0188e871bb3b',\n",
      "                        'password': 'devildog',\n",
      "                        'salt': 'fVeTVwib',\n",
      "                        'sha1': '18dae36d56f4a8adc49e84137f1562ae7ed18597',\n",
      "                        'sha256': '1df7a4b92362f97a664d8df7295aa413a26dc69a2374d45024066ba58c21069a',\n",
      "                        'username': 'purplemouse192',\n",
      "                        'uuid': 'e7550571-c1bc-4520-89a1-c8dc8235abad'},\n",
      "              'name': {'first': 'max', 'last': 'ward', 'title': 'mr'},\n",
      "              'nat': 'US',\n",
      "              'phone': '(751)-236-7680',\n",
      "              'picture': {'large': 'https://randomuser.me/api/portraits/men/86.jpg',\n",
      "                          'medium': 'https://randomuser.me/api/portraits/med/men/86.jpg',\n",
      "                          'thumbnail': 'https://randomuser.me/api/portraits/thumb/men/86.jpg'},\n",
      "              'registered': {'age': 8, 'date': '2010-06-12T11:45:13Z'}},\n",
      "             {'cell': '(436)-875-1729',\n",
      "              'dob': {'age': 27, 'date': '1991-11-19T16:33:45Z'},\n",
      "              'email': 'david.green@example.com',\n",
      "              'gender': 'male',\n",
      "              'id': {'name': 'SSN', 'value': '198-05-3433'},\n",
      "              'location': {'city': 'chesapeake',\n",
      "                           'coordinates': {'latitude': '-78.3979',\n",
      "                                           'longitude': '-103.4396'},\n",
      "                           'postcode': 35893,\n",
      "                           'state': 'ohio',\n",
      "                           'street': '2661 pecan acres ln',\n",
      "                           'timezone': {'description': 'Eastern Time (US & '\n",
      "                                                       'Canada), Bogota, Lima',\n",
      "                                        'offset': '-5:00'}},\n",
      "              'login': {'md5': 'e62737909d22a449f4ba887dd74d3bcc',\n",
      "                        'password': 'shelley',\n",
      "                        'salt': 'pCD2Pw1U',\n",
      "                        'sha1': '6cb5bc3bd24e3388af0937c58850de9ca5a0246f',\n",
      "                        'sha256': '468b397bf4fec2bad094c9a1eb102be698475dfc8b3d25be8316a0dd589b0ad8',\n",
      "                        'username': 'greenfrog263',\n",
      "                        'uuid': '23e5f764-3636-4945-89db-354492b4377d'},\n",
      "              'name': {'first': 'david', 'last': 'green', 'title': 'mr'},\n",
      "              'nat': 'US',\n",
      "              'phone': '(656)-380-0023',\n",
      "              'picture': {'large': 'https://randomuser.me/api/portraits/men/54.jpg',\n",
      "                          'medium': 'https://randomuser.me/api/portraits/med/men/54.jpg',\n",
      "                          'thumbnail': 'https://randomuser.me/api/portraits/thumb/men/54.jpg'},\n",
      "              'registered': {'age': 3, 'date': '2015-05-30T04:38:24Z'}},\n",
      "             {'cell': '(145)-759-5658',\n",
      "              'dob': {'age': 65, 'date': '1953-07-28T06:33:25Z'},\n",
      "              'email': 'kent.anderson@example.com',\n",
      "              'gender': 'male',\n",
      "              'id': {'name': 'SSN', 'value': '696-14-6716'},\n",
      "              'location': {'city': 'west valley city',\n",
      "                           'coordinates': {'latitude': '31.3770',\n",
      "                                           'longitude': '-51.7493'},\n",
      "                           'postcode': 91514,\n",
      "                           'state': 'nebraska',\n",
      "                           'street': '5169 w sherman dr',\n",
      "                           'timezone': {'description': 'Mountain Time (US & '\n",
      "                                                       'Canada)',\n",
      "                                        'offset': '-7:00'}},\n",
      "              'login': {'md5': '530767ac555f974de19b112c233641dc',\n",
      "                        'password': 'verona',\n",
      "                        'salt': 'mpBgZMRJ',\n",
      "                        'sha1': '139e1b61582826368b5c408883110397c24df52a',\n",
      "                        'sha256': 'e3d60da8ba69894fc08398a8cef393eb5901be6393ad8781adb18b185580c214',\n",
      "                        'username': 'angrybird151',\n",
      "                        'uuid': 'dcc552ec-8a9a-44d0-9045-749db82c3e2f'},\n",
      "              'name': {'first': 'kent', 'last': 'anderson', 'title': 'mr'},\n",
      "              'nat': 'US',\n",
      "              'phone': '(176)-760-9324',\n",
      "              'picture': {'large': 'https://randomuser.me/api/portraits/men/17.jpg',\n",
      "                          'medium': 'https://randomuser.me/api/portraits/med/men/17.jpg',\n",
      "                          'thumbnail': 'https://randomuser.me/api/portraits/thumb/men/17.jpg'},\n",
      "              'registered': {'age': 10, 'date': '2008-05-07T00:53:53Z'}},\n",
      "             {'cell': '(695)-940-5861',\n",
      "              'dob': {'age': 38, 'date': '1980-11-15T14:22:56Z'},\n",
      "              'email': 'ryan.sanders@example.com',\n",
      "              'gender': 'male',\n",
      "              'id': {'name': 'SSN', 'value': '129-40-1045'},\n",
      "              'location': {'city': 'roseville',\n",
      "                           'coordinates': {'latitude': '62.6684',\n",
      "                                           'longitude': '-162.6582'},\n",
      "                           'postcode': 51703,\n",
      "                           'state': 'alabama',\n",
      "                           'street': '9094 parker rd',\n",
      "                           'timezone': {'description': 'Brussels, Copenhagen, '\n",
      "                                                       'Madrid, Paris',\n",
      "                                        'offset': '+1:00'}},\n",
      "              'login': {'md5': '8fe0b5ef0e276bec7703459c1fc1a4d2',\n",
      "                        'password': 'xiang',\n",
      "                        'salt': '6zjZp6LY',\n",
      "                        'sha1': '72b0d08e22ba32111954ec9ab4f7cbacac930c7e',\n",
      "                        'sha256': '8d56889787fe51d9309767a21c050ed3eb79f3b1ac97094aec80ffa9e77a9650',\n",
      "                        'username': 'yellowdog199',\n",
      "                        'uuid': '84666590-38ef-48e3-871d-9b9f0002623c'},\n",
      "              'name': {'first': 'ryan', 'last': 'sanders', 'title': 'mr'},\n",
      "              'nat': 'US',\n",
      "              'phone': '(911)-043-6956',\n",
      "              'picture': {'large': 'https://randomuser.me/api/portraits/men/24.jpg',\n",
      "                          'medium': 'https://randomuser.me/api/portraits/med/men/24.jpg',\n",
      "                          'thumbnail': 'https://randomuser.me/api/portraits/thumb/men/24.jpg'},\n",
      "              'registered': {'age': 7, 'date': '2012-04-03T22:06:41Z'}},\n",
      "             {'cell': '(024)-469-1870',\n",
      "              'dob': {'age': 37, 'date': '1981-11-30T03:54:49Z'},\n",
      "              'email': 'fred.gilbert@example.com',\n",
      "              'gender': 'male',\n",
      "              'id': {'name': 'SSN', 'value': '197-74-7701'},\n",
      "              'location': {'city': 'killeen',\n",
      "                           'coordinates': {'latitude': '31.3736',\n",
      "                                           'longitude': '98.1387'},\n",
      "                           'postcode': 12839,\n",
      "                           'state': 'georgia',\n",
      "                           'street': '5680 homestead rd',\n",
      "                           'timezone': {'description': 'Ekaterinburg, '\n",
      "                                                       'Islamabad, Karachi, '\n",
      "                                                       'Tashkent',\n",
      "                                        'offset': '+5:00'}},\n",
      "              'login': {'md5': 'eeb09b2a0a036378a74b0062a1ebdf03',\n",
      "                        'password': 'banane',\n",
      "                        'salt': 's2qWoAM9',\n",
      "                        'sha1': '2b3bf1b432991910323d6b0e477dba7af4aa7dc0',\n",
      "                        'sha256': '9b7cbb9450c8dcc699f18ed01b447ccf07143d2a1155403bd6d606e8158e2082',\n",
      "                        'username': 'orangeostrich386',\n",
      "                        'uuid': 'b0f63726-9c8f-48a8-9afa-37ab39bdd7e9'},\n",
      "              'name': {'first': 'fred', 'last': 'gilbert', 'title': 'mr'},\n",
      "              'nat': 'US',\n",
      "              'phone': '(535)-715-3183',\n",
      "              'picture': {'large': 'https://randomuser.me/api/portraits/men/84.jpg',\n",
      "                          'medium': 'https://randomuser.me/api/portraits/med/men/84.jpg',\n",
      "                          'thumbnail': 'https://randomuser.me/api/portraits/thumb/men/84.jpg'},\n",
      "              'registered': {'age': 9, 'date': '2010-04-12T17:47:33Z'}},\n",
      "             {'cell': '(263)-154-9668',\n",
      "              'dob': {'age': 58, 'date': '1960-06-20T11:40:38Z'},\n",
      "              'email': 'claude.simpson@example.com',\n",
      "              'gender': 'male',\n",
      "              'id': {'name': 'SSN', 'value': '258-50-1718'},\n",
      "              'location': {'city': 'henderson',\n",
      "                           'coordinates': {'latitude': '46.5194',\n",
      "                                           'longitude': '-175.0489'},\n",
      "                           'postcode': 71932,\n",
      "                           'state': 'ohio',\n",
      "                           'street': '8673 harrison ct',\n",
      "                           'timezone': {'description': 'Bangkok, Hanoi, '\n",
      "                                                       'Jakarta',\n",
      "                                        'offset': '+7:00'}},\n",
      "              'login': {'md5': '217584d55d8487770eb1f9ae99773f84',\n",
      "                        'password': 'seth',\n",
      "                        'salt': 'Agdj1niZ',\n",
      "                        'sha1': '6447fa30f016d7d440d594d14cf842fb6549b293',\n",
      "                        'sha256': '83f58d5aa0324b3cb416458d6927e892ae694ce6372a3c6ff3a886aa4edab1c2',\n",
      "                        'username': 'purplesnake327',\n",
      "                        'uuid': '7e62d3e9-dff2-41a9-bf22-0649f8bbf8e7'},\n",
      "              'name': {'first': 'claude', 'last': 'simpson', 'title': 'mr'},\n",
      "              'nat': 'US',\n",
      "              'phone': '(714)-794-3652',\n",
      "              'picture': {'large': 'https://randomuser.me/api/portraits/men/50.jpg',\n",
      "                          'medium': 'https://randomuser.me/api/portraits/med/men/50.jpg',\n",
      "                          'thumbnail': 'https://randomuser.me/api/portraits/thumb/men/50.jpg'},\n",
      "              'registered': {'age': 7, 'date': '2012-04-11T23:04:30Z'}},\n",
      "             {'cell': '(929)-782-3771',\n",
      "              'dob': {'age': 35, 'date': '1983-10-30T15:45:17Z'},\n",
      "              'email': 'andy.cook@example.com',\n",
      "              'gender': 'male',\n",
      "              'id': {'name': 'SSN', 'value': '837-64-0406'},\n",
      "              'location': {'city': 'knoxville',\n",
      "                           'coordinates': {'latitude': '-76.0859',\n",
      "                                           'longitude': '11.6427'},\n",
      "                           'postcode': 71215,\n",
      "                           'state': 'north carolina',\n",
      "                           'street': '7964 brown terrace',\n",
      "                           'timezone': {'description': 'Adelaide, Darwin',\n",
      "                                        'offset': '+9:30'}},\n",
      "              'login': {'md5': '11544de3733ec74eecd2fbe19812ff0a',\n",
      "                        'password': 'eddie',\n",
      "                        'salt': 'zbf2FyX7',\n",
      "                        'sha1': 'b38af69c22a108176224278754967d7c54382e19',\n",
      "                        'sha256': '1fa4198fb01756a5b4a663f121a8d2c5197ee6c59d05353955a38cac715d2206',\n",
      "                        'username': 'heavyfish658',\n",
      "                        'uuid': 'da224f70-1068-4c54-a967-204d4c369f18'},\n",
      "              'name': {'first': 'andy', 'last': 'cook', 'title': 'mr'},\n",
      "              'nat': 'US',\n",
      "              'phone': '(196)-747-5559',\n",
      "              'picture': {'large': 'https://randomuser.me/api/portraits/men/10.jpg',\n",
      "                          'medium': 'https://randomuser.me/api/portraits/med/men/10.jpg',\n",
      "                          'thumbnail': 'https://randomuser.me/api/portraits/thumb/men/10.jpg'},\n",
      "              'registered': {'age': 12, 'date': '2006-07-26T02:26:22Z'}},\n",
      "             {'cell': '(266)-564-7915',\n",
      "              'dob': {'age': 44, 'date': '1975-03-07T06:02:11Z'},\n",
      "              'email': 'johnni.powell@example.com',\n",
      "              'gender': 'male',\n",
      "              'id': {'name': 'SSN', 'value': '186-41-3742'},\n",
      "              'location': {'city': 'fontana',\n",
      "                           'coordinates': {'latitude': '29.6246',\n",
      "                                           'longitude': '-65.4291'},\n",
      "                           'postcode': 88605,\n",
      "                           'state': 'california',\n",
      "                           'street': '5010 miller ave',\n",
      "                           'timezone': {'description': 'Brazil, Buenos Aires, '\n",
      "                                                       'Georgetown',\n",
      "                                        'offset': '-3:00'}},\n",
      "              'login': {'md5': '4e26d75623828b0a6c4b0a72496a12ad',\n",
      "                        'password': 'peanut',\n",
      "                        'salt': 'B4Wd4Gmt',\n",
      "                        'sha1': 'def4e48dd45550ee3aa222791bf8be914e39528a',\n",
      "                        'sha256': 'a278db3c453f0d4a0bc5ff85bf14e1e1fa536aac70ec3392eea9a0ceed12c3d1',\n",
      "                        'username': 'whitegorilla609',\n",
      "                        'uuid': 'b7d859c2-851e-4604-a7ae-3cc02fcc7bc0'},\n",
      "              'name': {'first': 'johnni', 'last': 'powell', 'title': 'mr'},\n",
      "              'nat': 'US',\n",
      "              'phone': '(337)-764-1661',\n",
      "              'picture': {'large': 'https://randomuser.me/api/portraits/men/8.jpg',\n",
      "                          'medium': 'https://randomuser.me/api/portraits/med/men/8.jpg',\n",
      "                          'thumbnail': 'https://randomuser.me/api/portraits/thumb/men/8.jpg'},\n",
      "              'registered': {'age': 13, 'date': '2006-01-23T08:58:10Z'}},\n",
      "             {'cell': '(828)-611-9470',\n",
      "              'dob': {'age': 74, 'date': '1945-02-22T20:14:05Z'},\n",
      "              'email': 'claude.black@example.com',\n",
      "              'gender': 'male',\n",
      "              'id': {'name': 'SSN', 'value': '571-99-7548'},\n",
      "              'location': {'city': 'newport news',\n",
      "                           'coordinates': {'latitude': '-68.7409',\n",
      "                                           'longitude': '53.2853'},\n",
      "                           'postcode': 52544,\n",
      "                           'state': 'iowa',\n",
      "                           'street': '684 shady ln dr',\n",
      "                           'timezone': {'description': 'Midway Island, Samoa',\n",
      "                                        'offset': '-11:00'}},\n",
      "              'login': {'md5': '4f773dc5f0f42ff6a2056597042d78e3',\n",
      "                        'password': 'qwe123',\n",
      "                        'salt': 'lU45S241',\n",
      "                        'sha1': 'cb645a181a9e3c7cd8c681dc0fcaa1c965fb6537',\n",
      "                        'sha256': '7389a9112c059d4e6a05993dce9daa050d4c9f3bd20e343678f755c9ea4402f8',\n",
      "                        'username': 'angryfish603',\n",
      "                        'uuid': '2dcd56ab-6102-4d32-9cac-4498c26bf75b'},\n",
      "              'name': {'first': 'claude', 'last': 'black', 'title': 'mr'},\n",
      "              'nat': 'US',\n",
      "              'phone': '(332)-782-3490',\n",
      "              'picture': {'large': 'https://randomuser.me/api/portraits/men/12.jpg',\n",
      "                          'medium': 'https://randomuser.me/api/portraits/med/men/12.jpg',\n",
      "                          'thumbnail': 'https://randomuser.me/api/portraits/thumb/men/12.jpg'},\n",
      "              'registered': {'age': 9, 'date': '2009-08-31T09:06:45Z'}},\n",
      "             {'cell': '(135)-886-0906',\n",
      "              'dob': {'age': 36, 'date': '1983-04-19T17:56:33Z'},\n",
      "              'email': 'jorge.bailey@example.com',\n",
      "              'gender': 'male',\n",
      "              'id': {'name': 'SSN', 'value': '636-04-1111'},\n",
      "              'location': {'city': 'torrance',\n",
      "                           'coordinates': {'latitude': '9.3891',\n",
      "                                           'longitude': '-94.8347'},\n",
      "                           'postcode': 82744,\n",
      "                           'state': 'nebraska',\n",
      "                           'street': '4118 plum st',\n",
      "                           'timezone': {'description': 'Kaliningrad, South '\n",
      "                                                       'Africa',\n",
      "                                        'offset': '+2:00'}},\n",
      "              'login': {'md5': '13a0be231b9b131576ca5912c0ae0f3a',\n",
      "                        'password': 'mang',\n",
      "                        'salt': 'Sww68oBg',\n",
      "                        'sha1': '79be601c1223062dfd67274587a5a12302bd5e13',\n",
      "                        'sha256': '2f45286039bf0eb0c3643fbd0e5ede1641a1cd443b80e4d022590c89821c655d',\n",
      "                        'username': 'yellowfish808',\n",
      "                        'uuid': '395387fa-9d38-4e80-9b2c-b02ec07aa601'},\n",
      "              'name': {'first': 'jorge', 'last': 'bailey', 'title': 'mr'},\n",
      "              'nat': 'US',\n",
      "              'phone': '(208)-262-1385',\n",
      "              'picture': {'large': 'https://randomuser.me/api/portraits/men/52.jpg',\n",
      "                          'medium': 'https://randomuser.me/api/portraits/med/men/52.jpg',\n",
      "                          'thumbnail': 'https://randomuser.me/api/portraits/thumb/men/52.jpg'},\n",
      "              'registered': {'age': 2, 'date': '2016-10-30T04:40:25Z'}}]}\n"
     ]
    }
   ],
   "source": [
    "from pprint import pprint\n",
    "pprint(data)"
   ]
  },
  {
   "cell_type": "markdown",
   "metadata": {},
   "source": [
    "* Loop through the dictionary and print all first names"
   ]
  },
  {
   "cell_type": "code",
   "execution_count": 68,
   "metadata": {},
   "outputs": [
    {
     "name": "stdout",
     "output_type": "stream",
     "text": [
      "max\n",
      "david\n",
      "kent\n",
      "ryan\n",
      "fred\n",
      "claude\n",
      "andy\n",
      "johnni\n",
      "claude\n",
      "jorge\n"
     ]
    }
   ],
   "source": [
    "results = data[\"results\"]\n",
    "for r in results:\n",
    "    print(r[\"name\"][\"first\"])"
   ]
  },
  {
   "cell_type": "markdown",
   "metadata": {},
   "source": [
    "* Get all astronauts who are right now in space. You get the information about the Web APU from here  http://open-notify.org/Open-Notify-API/People-In-Space/ "
   ]
  },
  {
   "cell_type": "code",
   "execution_count": 30,
   "metadata": {},
   "outputs": [
    {
     "name": "stdout",
     "output_type": "stream",
     "text": [
      "[{'craft': 'ISS', 'name': 'Oleg Kononenko'}, {'craft': 'ISS', 'name': 'David Saint-Jacques'}, {'craft': 'ISS', 'name': 'Anne McClain'}, {'craft': 'ISS', 'name': 'Alexey Ovchinin'}, {'craft': 'ISS', 'name': 'Nick Hague'}, {'craft': 'ISS', 'name': 'Christina Koch'}]\n"
     ]
    }
   ],
   "source": [
    "response = requests.get(\"http://api.open-notify.org/astros.json\")\n",
    "data = response.json()\n",
    "print(data[\"people\"])"
   ]
  },
  {
   "cell_type": "code",
   "execution_count": 53,
   "metadata": {},
   "outputs": [
    {
     "name": "stdout",
     "output_type": "stream",
     "text": [
      "<class 'dict'>\n"
     ]
    }
   ],
   "source": [
    "print(type(data))"
   ]
  },
  {
   "cell_type": "markdown",
   "metadata": {},
   "source": [
    "* Print the number of people that are right now in space"
   ]
  },
  {
   "cell_type": "code",
   "execution_count": 31,
   "metadata": {},
   "outputs": [
    {
     "name": "stdout",
     "output_type": "stream",
     "text": [
      "6\n"
     ]
    }
   ],
   "source": [
    "print(data[\"number\"])"
   ]
  },
  {
   "cell_type": "markdown",
   "metadata": {},
   "source": [
    "* Print the names of all astronauts "
   ]
  },
  {
   "cell_type": "code",
   "execution_count": 45,
   "metadata": {},
   "outputs": [
    {
     "name": "stdout",
     "output_type": "stream",
     "text": [
      "Oleg Kononenko\n",
      "David Saint-Jacques\n",
      "Anne McClain\n",
      "Alexey Ovchinin\n",
      "Nick Hague\n",
      "Christina Koch\n"
     ]
    }
   ],
   "source": [
    "people = data['people']\n",
    "for p in people:\n",
    "    print(p['name'])"
   ]
  },
  {
   "cell_type": "markdown",
   "metadata": {},
   "source": [
    "* A lot of Web APIs require a api-key for interacting with them (like Twitter, Facebook, …). You find at http://www.python-requests.org/en/latest/user/authentication/ more information for Authentication for Web APIs with the request package\n",
    "* There are also special Python packages for interacting with services. E.g. for Twitter: http://www.tweepy.org/ or  https://github.com/bear/python-twitter \n",
    "\n",
    "See e.g. http://socialmedia-class.org/twittertutorial.html for a tutorial"
   ]
  },
  {
   "cell_type": "markdown",
   "metadata": {},
   "source": [
    "## 2. Creating a Web API\n",
    "\n",
    "* Create a folder `webapi` and change into it.\n",
    "* Create in the `webapi` folder a file with the name `Dockerfile` with the following content:\n",
    "\n",
    "----\n",
    "```bash\n",
    "# Use an official Python runtime as a parent image\n",
    "FROM python:3.7-slim\n",
    "\n",
    "# Set the working directory to /app\n",
    "WORKDIR /app\n",
    "\n",
    "# Copy the current directory contents into the container at /app\n",
    "COPY app/ /app\n",
    "\n",
    "# Install any needed packages specified in requirements.txt\n",
    "RUN pip install --trusted-host pypi.python.org -r requirements.txt\n",
    "\n",
    "# Make port 80 available to the world outside this container\n",
    "EXPOSE 80\n",
    "\n",
    "# Run app.py when the container launches\n",
    "CMD [\"python\", \"app.py\"]\n",
    "```\n",
    "\n",
    "-----\n",
    "\n",
    "* We can also use Docker compose with just one service. Create in your `webapi` folder a `docker-compose.yml` file:\n",
    "\n",
    "-----\n",
    "\n",
    "```yaml\n",
    "version: '3'\n",
    "services:\n",
    "  api:\n",
    "    build: .\n",
    "    ports:\n",
    "      - \"5000:80\"\n",
    "    restart: always\n",
    "    volumes:\n",
    "      - ./app:/app\n",
    "```\n",
    "-----\n",
    "\n",
    "* Create a folder in the `webapi` folder a new folder with the name `app`\n",
    "* We will build a web API with `Flask` (http://flask.pocoo.org/) . Create a `requirements.txt` file in the `app` folder. Here we can specify all python `pip` packages that we need:\n",
    "\n",
    "-----\n",
    "```bash\n",
    "Flask\n",
    "```\n",
    "-----\n",
    "\n",
    "* Create the `app.py` file in the `app` folder:\n",
    "\n",
    "-----\n",
    "```python\n",
    "from flask import Flask\n",
    "from flask import request, jsonify\n",
    "\n",
    "app = Flask(__name__)\n",
    "\n",
    "courses = [\n",
    "    {'id': 0,\n",
    "     'title': 'Data Science',\n",
    "     'professor': 'Markus Löcher',\n",
    "     'semester': '1'},\n",
    "    {'id': 1,\n",
    "     'title': 'Data Warehousing',\n",
    "     'professor': 'Roland M. Mueller',\n",
    "     'semester': '1'},\n",
    "    {'id': 2,\n",
    "     'title': 'Business Process Management',\n",
    "     'professor': 'Frank Habermann',\n",
    "     'semester': '1'},\n",
    "    {'id': 3,\n",
    "     'title': 'Stratigic Issues of IT',\n",
    "     'professor': 'Sven Pohland',\n",
    "     'semester': '1'},\n",
    "    {'id': 4,\n",
    "     'title': 'Text, Web and Social Media Analytics Lab',\n",
    "     'professor': 'Markus Löcher',\n",
    "     'semester': '2'},\n",
    "    {'id': 5,\n",
    "     'title': 'Enterprise Architectures for Big Data',\n",
    "     'professor': 'Roland M. Mueller',\n",
    "     'semester': '2'},\n",
    "    {'id': 6,\n",
    "     'title': 'Business Process Integration Lab',\n",
    "     'professor': 'Frank Habermann',\n",
    "     'semester': '2'},\n",
    "    {'id': 7,\n",
    "     'title': 'IT-Security and Privacy',\n",
    "     'professor': 'Dennis Uckel',\n",
    "     'semester': '2'},\n",
    "    {'id': 8,\n",
    "     'title': 'Research Methods',\n",
    "     'professor': 'Marcus Birkenkrahe',\n",
    "     'semester': '2'},\n",
    "]\n",
    "\n",
    "@app.route('/api/v1/courses/all', methods=['GET'])\n",
    "def api_all():\n",
    "    return jsonify(courses)\n",
    "\n",
    "@app.route('/api/v1/courses', methods=['GET'])\n",
    "def api_id():\n",
    "    # Check if an ID was provided as part of the URL.\n",
    "    # If ID is provided, assign it to a variable.\n",
    "    # If no ID is provided, display an error in the browser.\n",
    "    if 'id' in request.args:\n",
    "        id = int(request.args['id'])\n",
    "    else:\n",
    "        return \"Error: No id field provided. Please specify an id.\"\n",
    "\n",
    "    # Create an empty list for our results\n",
    "    results = []\n",
    "\n",
    "    # Loop through the data and match results that fit the requested ID.\n",
    "    # IDs are unique, but other fields might return many results\n",
    "    for course in courses:\n",
    "        if course['id'] == id:\n",
    "            results.append(course)\n",
    "\n",
    "    # Use the jsonify function from Flask to convert our list of\n",
    "    # Python dictionaries to the JSON format.\n",
    "    return jsonify(results)\n",
    "\n",
    "if __name__ == \"__main__\":\n",
    "    app.run(host=\"0.0.0.0\", port=80, debug=True)\n",
    "```\n",
    "-----\n",
    "* Open http://localhost:5000/api/v1/courses/all in a browser\n",
    "* Open http://localhost:5000/api/v1/courses?id=5 in a browser\n"
   ]
  },
  {
   "cell_type": "markdown",
   "metadata": {
    "collapsed": true
   },
   "source": [
    "* Use your own API here in the Jupyter Notebook with Python and print all names of all courses "
   ]
  },
  {
   "cell_type": "code",
   "execution_count": 125,
   "metadata": {},
   "outputs": [
    {
     "name": "stdout",
     "output_type": "stream",
     "text": [
      "<class 'list'>\n"
     ]
    }
   ],
   "source": [
    "response = requests.get(\"http://localhost:5000/api/v1/courses/all\")\n",
    "data = json.loads(response.text)\n",
    "print(type(data))"
   ]
  },
  {
   "cell_type": "code",
   "execution_count": 126,
   "metadata": {},
   "outputs": [
    {
     "name": "stdout",
     "output_type": "stream",
     "text": [
      "[{'id': 0, 'professor': 'Markus Löcher', 'semester': '1', 'title': 'Data Science'}, {'id': 1, 'professor': 'Roland M. Mueller', 'semester': '1', 'title': 'Data Warehousing'}, {'id': 2, 'professor': 'Frank Habermann', 'semester': '1', 'title': 'Business Process Management'}, {'id': 3, 'professor': 'Sven Pohland', 'semester': '1', 'title': 'Stratigic Issues of IT'}, {'id': 4, 'professor': 'Markus Löcher', 'semester': '2', 'title': 'Text, Web and Social Media Analytics Lab'}, {'id': 5, 'professor': 'Roland M. Mueller', 'semester': '2', 'title': 'Enterprise Architectures for Big Data'}, {'id': 6, 'professor': 'Frank Habermann', 'semester': '2', 'title': 'Business Process Integration Lab'}, {'id': 7, 'professor': 'Dennis Uckel', 'semester': '2', 'title': 'IT-Security and Privacy'}, {'id': 8, 'professor': 'Marcus Birkenkrahe', 'semester': '2', 'title': 'Research Methods'}]\n"
     ]
    }
   ],
   "source": [
    "print(data)"
   ]
  },
  {
   "cell_type": "code",
   "execution_count": 127,
   "metadata": {},
   "outputs": [
    {
     "name": "stdout",
     "output_type": "stream",
     "text": [
      "Data Science\n",
      "Data Warehousing\n",
      "Business Process Management\n",
      "Stratigic Issues of IT\n",
      "Text, Web and Social Media Analytics Lab\n",
      "Enterprise Architectures for Big Data\n",
      "Business Process Integration Lab\n",
      "IT-Security and Privacy\n",
      "Research Methods\n"
     ]
    }
   ],
   "source": [
    "for d in data:\n",
    "    print(d[\"title\"])"
   ]
  },
  {
   "cell_type": "markdown",
   "metadata": {},
   "source": [
    "* Add the possibility to find courses based on the semester\n",
    "* Use your API in Python and print all names of all courses in the second semester"
   ]
  },
  {
   "cell_type": "code",
   "execution_count": 143,
   "metadata": {},
   "outputs": [],
   "source": [
    "def semester (nr_semester):\n",
    "        for d in data:\n",
    "            if d[\"semester\"] == nr_semester:\n",
    "                print(d[\"title\"])"
   ]
  },
  {
   "cell_type": "code",
   "execution_count": 144,
   "metadata": {},
   "outputs": [
    {
     "name": "stdout",
     "output_type": "stream",
     "text": [
      "Text, Web and Social Media Analytics Lab\n",
      "Enterprise Architectures for Big Data\n",
      "Business Process Integration Lab\n",
      "IT-Security and Privacy\n",
      "Research Methods\n",
      "None\n"
     ]
    }
   ],
   "source": [
    "print(semester(\"2\"))"
   ]
  },
  {
   "cell_type": "markdown",
   "metadata": {},
   "source": [
    "* Add a function that can convert Fahrenheit to Celsius \n",
    "* Call your API and get the Celsius value for 100°F Fahrenheit"
   ]
  },
  {
   "cell_type": "code",
   "execution_count": 158,
   "metadata": {},
   "outputs": [
    {
     "name": "stdout",
     "output_type": "stream",
     "text": [
      "<class 'list'>\n"
     ]
    }
   ],
   "source": [
    "response = requests.get(\"http://localhost:5000/api/v1/degrees/all\")\n",
    "data = json.loads(response.text)\n",
    "print(type(data))"
   ]
  },
  {
   "cell_type": "code",
   "execution_count": 159,
   "metadata": {},
   "outputs": [
    {
     "name": "stdout",
     "output_type": "stream",
     "text": [
      "[{'fahrenheit': 45, 'id': 0, 'title': 'Water'}, {'fahrenheit': 100, 'id': 1, 'title': 'Fire'}, {'fahrenheit': 65, 'id': 2, 'title': 'Stone'}, {'fahrenheit': 37, 'id': 3, 'title': 'Laptop'}, {'fahrenheit': 20, 'id': 4, 'title': 'Paper'}, {'fahrenheit': 100, 'id': 5, 'title': 'Earth'}, {'fahrenheit': 90, 'id': 6, 'title': 'Grass'}, {'fahrenheit': 89, 'id': 7, 'title': 'Plate'}, {'fahrenheit': 90, 'id': 8, 'title': 'Iron'}]\n"
     ]
    }
   ],
   "source": [
    "print(data)"
   ]
  },
  {
   "cell_type": "code",
   "execution_count": 160,
   "metadata": {},
   "outputs": [],
   "source": [
    "def fah_to_cel(grad):\n",
    "    for d in data:\n",
    "        if d[\"fahrenheit\"] == grad:\n",
    "            print((grad-32) * 5/9)\n",
    "\n"
   ]
  },
  {
   "cell_type": "code",
   "execution_count": 162,
   "metadata": {},
   "outputs": [
    {
     "name": "stdout",
     "output_type": "stream",
     "text": [
      "37.77777777777778\n",
      "37.77777777777778\n",
      "None\n"
     ]
    }
   ],
   "source": [
    "print(fah_to_cel(100))"
   ]
  }
 ],
 "metadata": {
  "kernelspec": {
   "display_name": "Python 3",
   "language": "python",
   "name": "python3"
  },
  "language_info": {
   "codemirror_mode": {
    "name": "ipython",
    "version": 3
   },
   "file_extension": ".py",
   "mimetype": "text/x-python",
   "name": "python",
   "nbconvert_exporter": "python",
   "pygments_lexer": "ipython3",
   "version": "3.7.1"
  },
  "varInspector": {
   "cols": {
    "lenName": 16,
    "lenType": 16,
    "lenVar": 40
   },
   "kernels_config": {
    "python": {
     "delete_cmd_postfix": "",
     "delete_cmd_prefix": "del ",
     "library": "var_list.py",
     "varRefreshCmd": "print(var_dic_list())"
    },
    "r": {
     "delete_cmd_postfix": ") ",
     "delete_cmd_prefix": "rm(",
     "library": "var_list.r",
     "varRefreshCmd": "cat(var_dic_list()) "
    }
   },
   "types_to_exclude": [
    "module",
    "function",
    "builtin_function_or_method",
    "instance",
    "_Feature"
   ],
   "window_display": false
  }
 },
 "nbformat": 4,
 "nbformat_minor": 2
}
